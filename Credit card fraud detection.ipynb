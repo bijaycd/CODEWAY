{
 "cells": [
  {
   "cell_type": "code",
   "execution_count": 1,
   "id": "a85d1b31",
   "metadata": {
    "ExecuteTime": {
     "end_time": "2024-03-28T16:30:11.789429Z",
     "start_time": "2024-03-28T16:30:03.745366Z"
    }
   },
   "outputs": [],
   "source": [
    "import numpy as np\n",
    "import pandas as pd\n",
    "import matplotlib.pyplot as plt\n",
    "import seaborn as sns\n",
    "import sklearn\n",
    "\n",
    "import warnings\n",
    "warnings.filterwarnings('ignore')"
   ]
  },
  {
   "cell_type": "code",
   "execution_count": 2,
   "id": "49ec45ed",
   "metadata": {
    "ExecuteTime": {
     "end_time": "2024-03-28T16:30:38.870082Z",
     "start_time": "2024-03-28T16:30:18.745119Z"
    }
   },
   "outputs": [
    {
     "data": {
      "text/html": [
       "<div>\n",
       "<style scoped>\n",
       "    .dataframe tbody tr th:only-of-type {\n",
       "        vertical-align: middle;\n",
       "    }\n",
       "\n",
       "    .dataframe tbody tr th {\n",
       "        vertical-align: top;\n",
       "    }\n",
       "\n",
       "    .dataframe thead th {\n",
       "        text-align: right;\n",
       "    }\n",
       "</style>\n",
       "<table border=\"1\" class=\"dataframe\">\n",
       "  <thead>\n",
       "    <tr style=\"text-align: right;\">\n",
       "      <th></th>\n",
       "      <th>Unnamed: 0</th>\n",
       "      <th>trans_date_trans_time</th>\n",
       "      <th>cc_num</th>\n",
       "      <th>merchant</th>\n",
       "      <th>category</th>\n",
       "      <th>amt</th>\n",
       "      <th>first</th>\n",
       "      <th>last</th>\n",
       "      <th>gender</th>\n",
       "      <th>street</th>\n",
       "      <th>...</th>\n",
       "      <th>lat</th>\n",
       "      <th>long</th>\n",
       "      <th>city_pop</th>\n",
       "      <th>job</th>\n",
       "      <th>dob</th>\n",
       "      <th>trans_num</th>\n",
       "      <th>unix_time</th>\n",
       "      <th>merch_lat</th>\n",
       "      <th>merch_long</th>\n",
       "      <th>is_fraud</th>\n",
       "    </tr>\n",
       "  </thead>\n",
       "  <tbody>\n",
       "    <tr>\n",
       "      <th>0</th>\n",
       "      <td>0</td>\n",
       "      <td>2019-01-01 00:00:18</td>\n",
       "      <td>2703186189652095</td>\n",
       "      <td>fraud_Rippin, Kub and Mann</td>\n",
       "      <td>misc_net</td>\n",
       "      <td>4.97</td>\n",
       "      <td>Jennifer</td>\n",
       "      <td>Banks</td>\n",
       "      <td>F</td>\n",
       "      <td>561 Perry Cove</td>\n",
       "      <td>...</td>\n",
       "      <td>36.0788</td>\n",
       "      <td>-81.1781</td>\n",
       "      <td>3495</td>\n",
       "      <td>Psychologist, counselling</td>\n",
       "      <td>1988-03-09</td>\n",
       "      <td>0b242abb623afc578575680df30655b9</td>\n",
       "      <td>1325376018</td>\n",
       "      <td>36.011293</td>\n",
       "      <td>-82.048315</td>\n",
       "      <td>0</td>\n",
       "    </tr>\n",
       "    <tr>\n",
       "      <th>1</th>\n",
       "      <td>1</td>\n",
       "      <td>2019-01-01 00:00:44</td>\n",
       "      <td>630423337322</td>\n",
       "      <td>fraud_Heller, Gutmann and Zieme</td>\n",
       "      <td>grocery_pos</td>\n",
       "      <td>107.23</td>\n",
       "      <td>Stephanie</td>\n",
       "      <td>Gill</td>\n",
       "      <td>F</td>\n",
       "      <td>43039 Riley Greens Suite 393</td>\n",
       "      <td>...</td>\n",
       "      <td>48.8878</td>\n",
       "      <td>-118.2105</td>\n",
       "      <td>149</td>\n",
       "      <td>Special educational needs teacher</td>\n",
       "      <td>1978-06-21</td>\n",
       "      <td>1f76529f8574734946361c461b024d99</td>\n",
       "      <td>1325376044</td>\n",
       "      <td>49.159047</td>\n",
       "      <td>-118.186462</td>\n",
       "      <td>0</td>\n",
       "    </tr>\n",
       "    <tr>\n",
       "      <th>2</th>\n",
       "      <td>2</td>\n",
       "      <td>2019-01-01 00:00:51</td>\n",
       "      <td>38859492057661</td>\n",
       "      <td>fraud_Lind-Buckridge</td>\n",
       "      <td>entertainment</td>\n",
       "      <td>220.11</td>\n",
       "      <td>Edward</td>\n",
       "      <td>Sanchez</td>\n",
       "      <td>M</td>\n",
       "      <td>594 White Dale Suite 530</td>\n",
       "      <td>...</td>\n",
       "      <td>42.1808</td>\n",
       "      <td>-112.2620</td>\n",
       "      <td>4154</td>\n",
       "      <td>Nature conservation officer</td>\n",
       "      <td>1962-01-19</td>\n",
       "      <td>a1a22d70485983eac12b5b88dad1cf95</td>\n",
       "      <td>1325376051</td>\n",
       "      <td>43.150704</td>\n",
       "      <td>-112.154481</td>\n",
       "      <td>0</td>\n",
       "    </tr>\n",
       "    <tr>\n",
       "      <th>3</th>\n",
       "      <td>3</td>\n",
       "      <td>2019-01-01 00:01:16</td>\n",
       "      <td>3534093764340240</td>\n",
       "      <td>fraud_Kutch, Hermiston and Farrell</td>\n",
       "      <td>gas_transport</td>\n",
       "      <td>45.00</td>\n",
       "      <td>Jeremy</td>\n",
       "      <td>White</td>\n",
       "      <td>M</td>\n",
       "      <td>9443 Cynthia Court Apt. 038</td>\n",
       "      <td>...</td>\n",
       "      <td>46.2306</td>\n",
       "      <td>-112.1138</td>\n",
       "      <td>1939</td>\n",
       "      <td>Patent attorney</td>\n",
       "      <td>1967-01-12</td>\n",
       "      <td>6b849c168bdad6f867558c3793159a81</td>\n",
       "      <td>1325376076</td>\n",
       "      <td>47.034331</td>\n",
       "      <td>-112.561071</td>\n",
       "      <td>0</td>\n",
       "    </tr>\n",
       "    <tr>\n",
       "      <th>4</th>\n",
       "      <td>4</td>\n",
       "      <td>2019-01-01 00:03:06</td>\n",
       "      <td>375534208663984</td>\n",
       "      <td>fraud_Keeling-Crist</td>\n",
       "      <td>misc_pos</td>\n",
       "      <td>41.96</td>\n",
       "      <td>Tyler</td>\n",
       "      <td>Garcia</td>\n",
       "      <td>M</td>\n",
       "      <td>408 Bradley Rest</td>\n",
       "      <td>...</td>\n",
       "      <td>38.4207</td>\n",
       "      <td>-79.4629</td>\n",
       "      <td>99</td>\n",
       "      <td>Dance movement psychotherapist</td>\n",
       "      <td>1986-03-28</td>\n",
       "      <td>a41d7549acf90789359a9aa5346dcb46</td>\n",
       "      <td>1325376186</td>\n",
       "      <td>38.674999</td>\n",
       "      <td>-78.632459</td>\n",
       "      <td>0</td>\n",
       "    </tr>\n",
       "    <tr>\n",
       "      <th>...</th>\n",
       "      <td>...</td>\n",
       "      <td>...</td>\n",
       "      <td>...</td>\n",
       "      <td>...</td>\n",
       "      <td>...</td>\n",
       "      <td>...</td>\n",
       "      <td>...</td>\n",
       "      <td>...</td>\n",
       "      <td>...</td>\n",
       "      <td>...</td>\n",
       "      <td>...</td>\n",
       "      <td>...</td>\n",
       "      <td>...</td>\n",
       "      <td>...</td>\n",
       "      <td>...</td>\n",
       "      <td>...</td>\n",
       "      <td>...</td>\n",
       "      <td>...</td>\n",
       "      <td>...</td>\n",
       "      <td>...</td>\n",
       "      <td>...</td>\n",
       "    </tr>\n",
       "    <tr>\n",
       "      <th>1296670</th>\n",
       "      <td>1296670</td>\n",
       "      <td>2020-06-21 12:12:08</td>\n",
       "      <td>30263540414123</td>\n",
       "      <td>fraud_Reichel Inc</td>\n",
       "      <td>entertainment</td>\n",
       "      <td>15.56</td>\n",
       "      <td>Erik</td>\n",
       "      <td>Patterson</td>\n",
       "      <td>M</td>\n",
       "      <td>162 Jessica Row Apt. 072</td>\n",
       "      <td>...</td>\n",
       "      <td>37.7175</td>\n",
       "      <td>-112.4777</td>\n",
       "      <td>258</td>\n",
       "      <td>Geoscientist</td>\n",
       "      <td>1961-11-24</td>\n",
       "      <td>440b587732da4dc1a6395aba5fb41669</td>\n",
       "      <td>1371816728</td>\n",
       "      <td>36.841266</td>\n",
       "      <td>-111.690765</td>\n",
       "      <td>0</td>\n",
       "    </tr>\n",
       "    <tr>\n",
       "      <th>1296671</th>\n",
       "      <td>1296671</td>\n",
       "      <td>2020-06-21 12:12:19</td>\n",
       "      <td>6011149206456997</td>\n",
       "      <td>fraud_Abernathy and Sons</td>\n",
       "      <td>food_dining</td>\n",
       "      <td>51.70</td>\n",
       "      <td>Jeffrey</td>\n",
       "      <td>White</td>\n",
       "      <td>M</td>\n",
       "      <td>8617 Holmes Terrace Suite 651</td>\n",
       "      <td>...</td>\n",
       "      <td>39.2667</td>\n",
       "      <td>-77.5101</td>\n",
       "      <td>100</td>\n",
       "      <td>Production assistant, television</td>\n",
       "      <td>1979-12-11</td>\n",
       "      <td>278000d2e0d2277d1de2f890067dcc0a</td>\n",
       "      <td>1371816739</td>\n",
       "      <td>38.906881</td>\n",
       "      <td>-78.246528</td>\n",
       "      <td>0</td>\n",
       "    </tr>\n",
       "    <tr>\n",
       "      <th>1296672</th>\n",
       "      <td>1296672</td>\n",
       "      <td>2020-06-21 12:12:32</td>\n",
       "      <td>3514865930894695</td>\n",
       "      <td>fraud_Stiedemann Ltd</td>\n",
       "      <td>food_dining</td>\n",
       "      <td>105.93</td>\n",
       "      <td>Christopher</td>\n",
       "      <td>Castaneda</td>\n",
       "      <td>M</td>\n",
       "      <td>1632 Cohen Drive Suite 639</td>\n",
       "      <td>...</td>\n",
       "      <td>32.9396</td>\n",
       "      <td>-105.8189</td>\n",
       "      <td>899</td>\n",
       "      <td>Naval architect</td>\n",
       "      <td>1967-08-30</td>\n",
       "      <td>483f52fe67fabef353d552c1e662974c</td>\n",
       "      <td>1371816752</td>\n",
       "      <td>33.619513</td>\n",
       "      <td>-105.130529</td>\n",
       "      <td>0</td>\n",
       "    </tr>\n",
       "    <tr>\n",
       "      <th>1296673</th>\n",
       "      <td>1296673</td>\n",
       "      <td>2020-06-21 12:13:36</td>\n",
       "      <td>2720012583106919</td>\n",
       "      <td>fraud_Reinger, Weissnat and Strosin</td>\n",
       "      <td>food_dining</td>\n",
       "      <td>74.90</td>\n",
       "      <td>Joseph</td>\n",
       "      <td>Murray</td>\n",
       "      <td>M</td>\n",
       "      <td>42933 Ryan Underpass</td>\n",
       "      <td>...</td>\n",
       "      <td>43.3526</td>\n",
       "      <td>-102.5411</td>\n",
       "      <td>1126</td>\n",
       "      <td>Volunteer coordinator</td>\n",
       "      <td>1980-08-18</td>\n",
       "      <td>d667cdcbadaaed3da3f4020e83591c83</td>\n",
       "      <td>1371816816</td>\n",
       "      <td>42.788940</td>\n",
       "      <td>-103.241160</td>\n",
       "      <td>0</td>\n",
       "    </tr>\n",
       "    <tr>\n",
       "      <th>1296674</th>\n",
       "      <td>1296674</td>\n",
       "      <td>2020-06-21 12:13:37</td>\n",
       "      <td>4292902571056973207</td>\n",
       "      <td>fraud_Langosh, Wintheiser and Hyatt</td>\n",
       "      <td>food_dining</td>\n",
       "      <td>4.30</td>\n",
       "      <td>Jeffrey</td>\n",
       "      <td>Smith</td>\n",
       "      <td>M</td>\n",
       "      <td>135 Joseph Mountains</td>\n",
       "      <td>...</td>\n",
       "      <td>45.8433</td>\n",
       "      <td>-113.8748</td>\n",
       "      <td>218</td>\n",
       "      <td>Therapist, horticultural</td>\n",
       "      <td>1995-08-16</td>\n",
       "      <td>8f7c8e4ab7f25875d753b422917c98c9</td>\n",
       "      <td>1371816817</td>\n",
       "      <td>46.565983</td>\n",
       "      <td>-114.186110</td>\n",
       "      <td>0</td>\n",
       "    </tr>\n",
       "  </tbody>\n",
       "</table>\n",
       "<p>1296675 rows × 23 columns</p>\n",
       "</div>"
      ],
      "text/plain": [
       "         Unnamed: 0 trans_date_trans_time               cc_num  \\\n",
       "0                 0   2019-01-01 00:00:18     2703186189652095   \n",
       "1                 1   2019-01-01 00:00:44         630423337322   \n",
       "2                 2   2019-01-01 00:00:51       38859492057661   \n",
       "3                 3   2019-01-01 00:01:16     3534093764340240   \n",
       "4                 4   2019-01-01 00:03:06      375534208663984   \n",
       "...             ...                   ...                  ...   \n",
       "1296670     1296670   2020-06-21 12:12:08       30263540414123   \n",
       "1296671     1296671   2020-06-21 12:12:19     6011149206456997   \n",
       "1296672     1296672   2020-06-21 12:12:32     3514865930894695   \n",
       "1296673     1296673   2020-06-21 12:13:36     2720012583106919   \n",
       "1296674     1296674   2020-06-21 12:13:37  4292902571056973207   \n",
       "\n",
       "                                    merchant       category     amt  \\\n",
       "0                 fraud_Rippin, Kub and Mann       misc_net    4.97   \n",
       "1            fraud_Heller, Gutmann and Zieme    grocery_pos  107.23   \n",
       "2                       fraud_Lind-Buckridge  entertainment  220.11   \n",
       "3         fraud_Kutch, Hermiston and Farrell  gas_transport   45.00   \n",
       "4                        fraud_Keeling-Crist       misc_pos   41.96   \n",
       "...                                      ...            ...     ...   \n",
       "1296670                    fraud_Reichel Inc  entertainment   15.56   \n",
       "1296671             fraud_Abernathy and Sons    food_dining   51.70   \n",
       "1296672                 fraud_Stiedemann Ltd    food_dining  105.93   \n",
       "1296673  fraud_Reinger, Weissnat and Strosin    food_dining   74.90   \n",
       "1296674  fraud_Langosh, Wintheiser and Hyatt    food_dining    4.30   \n",
       "\n",
       "               first       last gender                         street  ...  \\\n",
       "0           Jennifer      Banks      F                 561 Perry Cove  ...   \n",
       "1          Stephanie       Gill      F   43039 Riley Greens Suite 393  ...   \n",
       "2             Edward    Sanchez      M       594 White Dale Suite 530  ...   \n",
       "3             Jeremy      White      M    9443 Cynthia Court Apt. 038  ...   \n",
       "4              Tyler     Garcia      M               408 Bradley Rest  ...   \n",
       "...              ...        ...    ...                            ...  ...   \n",
       "1296670         Erik  Patterson      M       162 Jessica Row Apt. 072  ...   \n",
       "1296671      Jeffrey      White      M  8617 Holmes Terrace Suite 651  ...   \n",
       "1296672  Christopher  Castaneda      M     1632 Cohen Drive Suite 639  ...   \n",
       "1296673       Joseph     Murray      M           42933 Ryan Underpass  ...   \n",
       "1296674      Jeffrey      Smith      M           135 Joseph Mountains  ...   \n",
       "\n",
       "             lat      long  city_pop                                job  \\\n",
       "0        36.0788  -81.1781      3495          Psychologist, counselling   \n",
       "1        48.8878 -118.2105       149  Special educational needs teacher   \n",
       "2        42.1808 -112.2620      4154        Nature conservation officer   \n",
       "3        46.2306 -112.1138      1939                    Patent attorney   \n",
       "4        38.4207  -79.4629        99     Dance movement psychotherapist   \n",
       "...          ...       ...       ...                                ...   \n",
       "1296670  37.7175 -112.4777       258                       Geoscientist   \n",
       "1296671  39.2667  -77.5101       100   Production assistant, television   \n",
       "1296672  32.9396 -105.8189       899                    Naval architect   \n",
       "1296673  43.3526 -102.5411      1126              Volunteer coordinator   \n",
       "1296674  45.8433 -113.8748       218           Therapist, horticultural   \n",
       "\n",
       "                dob                         trans_num   unix_time  merch_lat  \\\n",
       "0        1988-03-09  0b242abb623afc578575680df30655b9  1325376018  36.011293   \n",
       "1        1978-06-21  1f76529f8574734946361c461b024d99  1325376044  49.159047   \n",
       "2        1962-01-19  a1a22d70485983eac12b5b88dad1cf95  1325376051  43.150704   \n",
       "3        1967-01-12  6b849c168bdad6f867558c3793159a81  1325376076  47.034331   \n",
       "4        1986-03-28  a41d7549acf90789359a9aa5346dcb46  1325376186  38.674999   \n",
       "...             ...                               ...         ...        ...   \n",
       "1296670  1961-11-24  440b587732da4dc1a6395aba5fb41669  1371816728  36.841266   \n",
       "1296671  1979-12-11  278000d2e0d2277d1de2f890067dcc0a  1371816739  38.906881   \n",
       "1296672  1967-08-30  483f52fe67fabef353d552c1e662974c  1371816752  33.619513   \n",
       "1296673  1980-08-18  d667cdcbadaaed3da3f4020e83591c83  1371816816  42.788940   \n",
       "1296674  1995-08-16  8f7c8e4ab7f25875d753b422917c98c9  1371816817  46.565983   \n",
       "\n",
       "         merch_long  is_fraud  \n",
       "0        -82.048315         0  \n",
       "1       -118.186462         0  \n",
       "2       -112.154481         0  \n",
       "3       -112.561071         0  \n",
       "4        -78.632459         0  \n",
       "...             ...       ...  \n",
       "1296670 -111.690765         0  \n",
       "1296671  -78.246528         0  \n",
       "1296672 -105.130529         0  \n",
       "1296673 -103.241160         0  \n",
       "1296674 -114.186110         0  \n",
       "\n",
       "[1296675 rows x 23 columns]"
      ]
     },
     "execution_count": 2,
     "metadata": {},
     "output_type": "execute_result"
    }
   ],
   "source": [
    "train_df = pd.read_csv('fraud-detection/fraudTrain.csv')\n",
    "train_df"
   ]
  },
  {
   "cell_type": "code",
   "execution_count": 3,
   "id": "76c72d62",
   "metadata": {
    "ExecuteTime": {
     "end_time": "2024-03-28T16:30:53.502785Z",
     "start_time": "2024-03-28T16:30:46.420146Z"
    }
   },
   "outputs": [
    {
     "data": {
      "text/html": [
       "<div>\n",
       "<style scoped>\n",
       "    .dataframe tbody tr th:only-of-type {\n",
       "        vertical-align: middle;\n",
       "    }\n",
       "\n",
       "    .dataframe tbody tr th {\n",
       "        vertical-align: top;\n",
       "    }\n",
       "\n",
       "    .dataframe thead th {\n",
       "        text-align: right;\n",
       "    }\n",
       "</style>\n",
       "<table border=\"1\" class=\"dataframe\">\n",
       "  <thead>\n",
       "    <tr style=\"text-align: right;\">\n",
       "      <th></th>\n",
       "      <th>Unnamed: 0</th>\n",
       "      <th>trans_date_trans_time</th>\n",
       "      <th>cc_num</th>\n",
       "      <th>merchant</th>\n",
       "      <th>category</th>\n",
       "      <th>amt</th>\n",
       "      <th>first</th>\n",
       "      <th>last</th>\n",
       "      <th>gender</th>\n",
       "      <th>street</th>\n",
       "      <th>...</th>\n",
       "      <th>lat</th>\n",
       "      <th>long</th>\n",
       "      <th>city_pop</th>\n",
       "      <th>job</th>\n",
       "      <th>dob</th>\n",
       "      <th>trans_num</th>\n",
       "      <th>unix_time</th>\n",
       "      <th>merch_lat</th>\n",
       "      <th>merch_long</th>\n",
       "      <th>is_fraud</th>\n",
       "    </tr>\n",
       "  </thead>\n",
       "  <tbody>\n",
       "    <tr>\n",
       "      <th>0</th>\n",
       "      <td>0</td>\n",
       "      <td>2020-06-21 12:14:25</td>\n",
       "      <td>2291163933867244</td>\n",
       "      <td>fraud_Kirlin and Sons</td>\n",
       "      <td>personal_care</td>\n",
       "      <td>2.86</td>\n",
       "      <td>Jeff</td>\n",
       "      <td>Elliott</td>\n",
       "      <td>M</td>\n",
       "      <td>351 Darlene Green</td>\n",
       "      <td>...</td>\n",
       "      <td>33.9659</td>\n",
       "      <td>-80.9355</td>\n",
       "      <td>333497</td>\n",
       "      <td>Mechanical engineer</td>\n",
       "      <td>1968-03-19</td>\n",
       "      <td>2da90c7d74bd46a0caf3777415b3ebd3</td>\n",
       "      <td>1371816865</td>\n",
       "      <td>33.986391</td>\n",
       "      <td>-81.200714</td>\n",
       "      <td>0</td>\n",
       "    </tr>\n",
       "    <tr>\n",
       "      <th>1</th>\n",
       "      <td>1</td>\n",
       "      <td>2020-06-21 12:14:33</td>\n",
       "      <td>3573030041201292</td>\n",
       "      <td>fraud_Sporer-Keebler</td>\n",
       "      <td>personal_care</td>\n",
       "      <td>29.84</td>\n",
       "      <td>Joanne</td>\n",
       "      <td>Williams</td>\n",
       "      <td>F</td>\n",
       "      <td>3638 Marsh Union</td>\n",
       "      <td>...</td>\n",
       "      <td>40.3207</td>\n",
       "      <td>-110.4360</td>\n",
       "      <td>302</td>\n",
       "      <td>Sales professional, IT</td>\n",
       "      <td>1990-01-17</td>\n",
       "      <td>324cc204407e99f51b0d6ca0055005e7</td>\n",
       "      <td>1371816873</td>\n",
       "      <td>39.450498</td>\n",
       "      <td>-109.960431</td>\n",
       "      <td>0</td>\n",
       "    </tr>\n",
       "    <tr>\n",
       "      <th>2</th>\n",
       "      <td>2</td>\n",
       "      <td>2020-06-21 12:14:53</td>\n",
       "      <td>3598215285024754</td>\n",
       "      <td>fraud_Swaniawski, Nitzsche and Welch</td>\n",
       "      <td>health_fitness</td>\n",
       "      <td>41.28</td>\n",
       "      <td>Ashley</td>\n",
       "      <td>Lopez</td>\n",
       "      <td>F</td>\n",
       "      <td>9333 Valentine Point</td>\n",
       "      <td>...</td>\n",
       "      <td>40.6729</td>\n",
       "      <td>-73.5365</td>\n",
       "      <td>34496</td>\n",
       "      <td>Librarian, public</td>\n",
       "      <td>1970-10-21</td>\n",
       "      <td>c81755dbbbea9d5c77f094348a7579be</td>\n",
       "      <td>1371816893</td>\n",
       "      <td>40.495810</td>\n",
       "      <td>-74.196111</td>\n",
       "      <td>0</td>\n",
       "    </tr>\n",
       "    <tr>\n",
       "      <th>3</th>\n",
       "      <td>3</td>\n",
       "      <td>2020-06-21 12:15:15</td>\n",
       "      <td>3591919803438423</td>\n",
       "      <td>fraud_Haley Group</td>\n",
       "      <td>misc_pos</td>\n",
       "      <td>60.05</td>\n",
       "      <td>Brian</td>\n",
       "      <td>Williams</td>\n",
       "      <td>M</td>\n",
       "      <td>32941 Krystal Mill Apt. 552</td>\n",
       "      <td>...</td>\n",
       "      <td>28.5697</td>\n",
       "      <td>-80.8191</td>\n",
       "      <td>54767</td>\n",
       "      <td>Set designer</td>\n",
       "      <td>1987-07-25</td>\n",
       "      <td>2159175b9efe66dc301f149d3d5abf8c</td>\n",
       "      <td>1371816915</td>\n",
       "      <td>28.812398</td>\n",
       "      <td>-80.883061</td>\n",
       "      <td>0</td>\n",
       "    </tr>\n",
       "    <tr>\n",
       "      <th>4</th>\n",
       "      <td>4</td>\n",
       "      <td>2020-06-21 12:15:17</td>\n",
       "      <td>3526826139003047</td>\n",
       "      <td>fraud_Johnston-Casper</td>\n",
       "      <td>travel</td>\n",
       "      <td>3.19</td>\n",
       "      <td>Nathan</td>\n",
       "      <td>Massey</td>\n",
       "      <td>M</td>\n",
       "      <td>5783 Evan Roads Apt. 465</td>\n",
       "      <td>...</td>\n",
       "      <td>44.2529</td>\n",
       "      <td>-85.0170</td>\n",
       "      <td>1126</td>\n",
       "      <td>Furniture designer</td>\n",
       "      <td>1955-07-06</td>\n",
       "      <td>57ff021bd3f328f8738bb535c302a31b</td>\n",
       "      <td>1371816917</td>\n",
       "      <td>44.959148</td>\n",
       "      <td>-85.884734</td>\n",
       "      <td>0</td>\n",
       "    </tr>\n",
       "  </tbody>\n",
       "</table>\n",
       "<p>5 rows × 23 columns</p>\n",
       "</div>"
      ],
      "text/plain": [
       "   Unnamed: 0 trans_date_trans_time            cc_num  \\\n",
       "0           0   2020-06-21 12:14:25  2291163933867244   \n",
       "1           1   2020-06-21 12:14:33  3573030041201292   \n",
       "2           2   2020-06-21 12:14:53  3598215285024754   \n",
       "3           3   2020-06-21 12:15:15  3591919803438423   \n",
       "4           4   2020-06-21 12:15:17  3526826139003047   \n",
       "\n",
       "                               merchant        category    amt   first  \\\n",
       "0                 fraud_Kirlin and Sons   personal_care   2.86    Jeff   \n",
       "1                  fraud_Sporer-Keebler   personal_care  29.84  Joanne   \n",
       "2  fraud_Swaniawski, Nitzsche and Welch  health_fitness  41.28  Ashley   \n",
       "3                     fraud_Haley Group        misc_pos  60.05   Brian   \n",
       "4                 fraud_Johnston-Casper          travel   3.19  Nathan   \n",
       "\n",
       "       last gender                       street  ...      lat      long  \\\n",
       "0   Elliott      M            351 Darlene Green  ...  33.9659  -80.9355   \n",
       "1  Williams      F             3638 Marsh Union  ...  40.3207 -110.4360   \n",
       "2     Lopez      F         9333 Valentine Point  ...  40.6729  -73.5365   \n",
       "3  Williams      M  32941 Krystal Mill Apt. 552  ...  28.5697  -80.8191   \n",
       "4    Massey      M     5783 Evan Roads Apt. 465  ...  44.2529  -85.0170   \n",
       "\n",
       "   city_pop                     job         dob  \\\n",
       "0    333497     Mechanical engineer  1968-03-19   \n",
       "1       302  Sales professional, IT  1990-01-17   \n",
       "2     34496       Librarian, public  1970-10-21   \n",
       "3     54767            Set designer  1987-07-25   \n",
       "4      1126      Furniture designer  1955-07-06   \n",
       "\n",
       "                          trans_num   unix_time  merch_lat  merch_long  \\\n",
       "0  2da90c7d74bd46a0caf3777415b3ebd3  1371816865  33.986391  -81.200714   \n",
       "1  324cc204407e99f51b0d6ca0055005e7  1371816873  39.450498 -109.960431   \n",
       "2  c81755dbbbea9d5c77f094348a7579be  1371816893  40.495810  -74.196111   \n",
       "3  2159175b9efe66dc301f149d3d5abf8c  1371816915  28.812398  -80.883061   \n",
       "4  57ff021bd3f328f8738bb535c302a31b  1371816917  44.959148  -85.884734   \n",
       "\n",
       "   is_fraud  \n",
       "0         0  \n",
       "1         0  \n",
       "2         0  \n",
       "3         0  \n",
       "4         0  \n",
       "\n",
       "[5 rows x 23 columns]"
      ]
     },
     "execution_count": 3,
     "metadata": {},
     "output_type": "execute_result"
    }
   ],
   "source": [
    "test_df = pd.read_csv('fraud-detection/fraudTest.csv')\n",
    "test_df.head()"
   ]
  },
  {
   "cell_type": "code",
   "execution_count": 4,
   "id": "e46ffbd5",
   "metadata": {
    "ExecuteTime": {
     "end_time": "2024-03-28T16:31:23.854705Z",
     "start_time": "2024-03-28T16:31:23.834615Z"
    }
   },
   "outputs": [
    {
     "name": "stdout",
     "output_type": "stream",
     "text": [
      "(1296675, 23)\n",
      "(555719, 23)\n"
     ]
    }
   ],
   "source": [
    "print(train_df.shape)\n",
    "print(test_df.shape)"
   ]
  },
  {
   "cell_type": "code",
   "execution_count": 5,
   "id": "1f508549",
   "metadata": {
    "ExecuteTime": {
     "end_time": "2024-03-28T16:31:26.047201Z",
     "start_time": "2024-03-28T16:31:26.018655Z"
    }
   },
   "outputs": [
    {
     "data": {
      "text/plain": [
       "Index(['Unnamed: 0', 'trans_date_trans_time', 'cc_num', 'merchant', 'category',\n",
       "       'amt', 'first', 'last', 'gender', 'street', 'city', 'state', 'zip',\n",
       "       'lat', 'long', 'city_pop', 'job', 'dob', 'trans_num', 'unix_time',\n",
       "       'merch_lat', 'merch_long', 'is_fraud'],\n",
       "      dtype='object')"
      ]
     },
     "execution_count": 5,
     "metadata": {},
     "output_type": "execute_result"
    }
   ],
   "source": [
    "train_df.columns"
   ]
  },
  {
   "cell_type": "markdown",
   "id": "e8d09307",
   "metadata": {},
   "source": [
    "## About Dataset\n",
    "\n",
    "This is a simulated credit card transaction dataset containing legitimate and fraud transactions from the duration 1st Jan 2019 - 31st Dec 2020. It covers credit cards of 1000 customers doing transactions with a pool of 800 merchants.\n",
    "\n",
    "## Source of simulation\n",
    "\n",
    "This was generated using Sparkov Data Generation | Github tool created by Brandon Harris. This simulation was run for the duration - 1 Jan 2019 to 31 Dec 2020. The files were combined and converted into a standard format."
   ]
  },
  {
   "cell_type": "markdown",
   "id": "51007bfe",
   "metadata": {},
   "source": [
    "## Column description\n",
    "\n",
    "- `index` - Unique Identifier for each row\n",
    "- `trans_date_trans_time` - Transaction DateTime\n",
    "- `cc_num` - Credit Card Number of Customer\n",
    "- `merchant` - Merchant Name\n",
    "- `category` - Category of Merchant\n",
    "- `amt` - Amount of Transaction\n",
    "- `first` - First Name of Credit Card Holder\n",
    "- `last` - Last Name of Credit Card Holder\n",
    "- `gender` - Gender of Credit Card Holder\n",
    "- `street` - Street Address of Credit Card Holder\n",
    "- `city` - City of Credit Card Holder\n",
    "- `state` - State of Credit Card Holder\n",
    "- `zip` - Zip of Credit Card Holder\n",
    "- `lat` - Latitude Location of Credit Card Holder\n",
    "- `long` - Longitude Location of Credit Card Holder\n",
    "- `city_pop` - Credit Card Holder's City Population\n",
    "- `job` - Job of Credit Card Holder\n",
    "- `dob` - Date of Birth of Credit Card Holder\n",
    "- `trans_num` - Transaction Number\n",
    "- `unix_time` - UNIX Time of transaction\n",
    "- `merch_lat` - Latitude Location of Merchant\n",
    "- `merch_long` - Longitude Location of Merchant\n",
    "- `is_fraud` - Fraud Flag <--- `Target Class`"
   ]
  },
  {
   "cell_type": "markdown",
   "id": "fbbbb62a",
   "metadata": {},
   "source": [
    "## Data Preprocessing"
   ]
  },
  {
   "cell_type": "code",
   "execution_count": 6,
   "id": "3b2a2979",
   "metadata": {
    "ExecuteTime": {
     "end_time": "2024-03-28T16:31:35.964664Z",
     "start_time": "2024-03-28T16:31:33.965810Z"
    }
   },
   "outputs": [
    {
     "name": "stdout",
     "output_type": "stream",
     "text": [
      "<class 'pandas.core.frame.DataFrame'>\n",
      "RangeIndex: 1296675 entries, 0 to 1296674\n",
      "Data columns (total 23 columns):\n",
      " #   Column                 Non-Null Count    Dtype  \n",
      "---  ------                 --------------    -----  \n",
      " 0   Unnamed: 0             1296675 non-null  int64  \n",
      " 1   trans_date_trans_time  1296675 non-null  object \n",
      " 2   cc_num                 1296675 non-null  int64  \n",
      " 3   merchant               1296675 non-null  object \n",
      " 4   category               1296675 non-null  object \n",
      " 5   amt                    1296675 non-null  float64\n",
      " 6   first                  1296675 non-null  object \n",
      " 7   last                   1296675 non-null  object \n",
      " 8   gender                 1296675 non-null  object \n",
      " 9   street                 1296675 non-null  object \n",
      " 10  city                   1296675 non-null  object \n",
      " 11  state                  1296675 non-null  object \n",
      " 12  zip                    1296675 non-null  int64  \n",
      " 13  lat                    1296675 non-null  float64\n",
      " 14  long                   1296675 non-null  float64\n",
      " 15  city_pop               1296675 non-null  int64  \n",
      " 16  job                    1296675 non-null  object \n",
      " 17  dob                    1296675 non-null  object \n",
      " 18  trans_num              1296675 non-null  object \n",
      " 19  unix_time              1296675 non-null  int64  \n",
      " 20  merch_lat              1296675 non-null  float64\n",
      " 21  merch_long             1296675 non-null  float64\n",
      " 22  is_fraud               1296675 non-null  int64  \n",
      "dtypes: float64(5), int64(6), object(12)\n",
      "memory usage: 227.5+ MB\n"
     ]
    }
   ],
   "source": [
    "train_df.info()"
   ]
  },
  {
   "cell_type": "code",
   "execution_count": 7,
   "id": "1d6897cf",
   "metadata": {
    "ExecuteTime": {
     "end_time": "2024-03-28T16:31:56.302165Z",
     "start_time": "2024-03-28T16:31:54.826114Z"
    }
   },
   "outputs": [
    {
     "data": {
      "text/plain": [
       "Unnamed: 0               0\n",
       "trans_date_trans_time    0\n",
       "cc_num                   0\n",
       "merchant                 0\n",
       "category                 0\n",
       "amt                      0\n",
       "first                    0\n",
       "last                     0\n",
       "gender                   0\n",
       "street                   0\n",
       "city                     0\n",
       "state                    0\n",
       "zip                      0\n",
       "lat                      0\n",
       "long                     0\n",
       "city_pop                 0\n",
       "job                      0\n",
       "dob                      0\n",
       "trans_num                0\n",
       "unix_time                0\n",
       "merch_lat                0\n",
       "merch_long               0\n",
       "is_fraud                 0\n",
       "dtype: int64"
      ]
     },
     "execution_count": 7,
     "metadata": {},
     "output_type": "execute_result"
    }
   ],
   "source": [
    "train_df.isnull().sum()"
   ]
  },
  {
   "cell_type": "code",
   "execution_count": 8,
   "id": "e4e8209c",
   "metadata": {
    "ExecuteTime": {
     "end_time": "2024-03-28T16:33:06.478250Z",
     "start_time": "2024-03-28T16:32:59.778505Z"
    }
   },
   "outputs": [
    {
     "data": {
      "text/plain": [
       "0"
      ]
     },
     "execution_count": 8,
     "metadata": {},
     "output_type": "execute_result"
    }
   ],
   "source": [
    "train_df.duplicated().sum()"
   ]
  },
  {
   "cell_type": "code",
   "execution_count": 9,
   "id": "26faad2e",
   "metadata": {
    "ExecuteTime": {
     "end_time": "2024-03-28T16:33:15.844911Z",
     "start_time": "2024-03-28T16:33:14.458766Z"
    }
   },
   "outputs": [
    {
     "data": {
      "text/html": [
       "<div>\n",
       "<style scoped>\n",
       "    .dataframe tbody tr th:only-of-type {\n",
       "        vertical-align: middle;\n",
       "    }\n",
       "\n",
       "    .dataframe tbody tr th {\n",
       "        vertical-align: top;\n",
       "    }\n",
       "\n",
       "    .dataframe thead th {\n",
       "        text-align: right;\n",
       "    }\n",
       "</style>\n",
       "<table border=\"1\" class=\"dataframe\">\n",
       "  <thead>\n",
       "    <tr style=\"text-align: right;\">\n",
       "      <th></th>\n",
       "      <th>Unnamed: 0</th>\n",
       "      <th>cc_num</th>\n",
       "      <th>amt</th>\n",
       "      <th>zip</th>\n",
       "      <th>lat</th>\n",
       "      <th>long</th>\n",
       "      <th>city_pop</th>\n",
       "      <th>unix_time</th>\n",
       "      <th>merch_lat</th>\n",
       "      <th>merch_long</th>\n",
       "      <th>is_fraud</th>\n",
       "    </tr>\n",
       "  </thead>\n",
       "  <tbody>\n",
       "    <tr>\n",
       "      <th>count</th>\n",
       "      <td>1296675.00</td>\n",
       "      <td>1.296675e+06</td>\n",
       "      <td>1296675.00</td>\n",
       "      <td>1296675.00</td>\n",
       "      <td>1296675.00</td>\n",
       "      <td>1296675.00</td>\n",
       "      <td>1296675.00</td>\n",
       "      <td>1.296675e+06</td>\n",
       "      <td>1296675.00</td>\n",
       "      <td>1296675.00</td>\n",
       "      <td>1296675.00</td>\n",
       "    </tr>\n",
       "    <tr>\n",
       "      <th>mean</th>\n",
       "      <td>648337.00</td>\n",
       "      <td>4.171920e+17</td>\n",
       "      <td>70.35</td>\n",
       "      <td>48800.67</td>\n",
       "      <td>38.54</td>\n",
       "      <td>-90.23</td>\n",
       "      <td>88824.44</td>\n",
       "      <td>1.349244e+09</td>\n",
       "      <td>38.54</td>\n",
       "      <td>-90.23</td>\n",
       "      <td>0.01</td>\n",
       "    </tr>\n",
       "    <tr>\n",
       "      <th>std</th>\n",
       "      <td>374317.97</td>\n",
       "      <td>1.308806e+18</td>\n",
       "      <td>160.32</td>\n",
       "      <td>26893.22</td>\n",
       "      <td>5.08</td>\n",
       "      <td>13.76</td>\n",
       "      <td>301956.36</td>\n",
       "      <td>1.284128e+07</td>\n",
       "      <td>5.11</td>\n",
       "      <td>13.77</td>\n",
       "      <td>0.08</td>\n",
       "    </tr>\n",
       "    <tr>\n",
       "      <th>min</th>\n",
       "      <td>0.00</td>\n",
       "      <td>6.041621e+10</td>\n",
       "      <td>1.00</td>\n",
       "      <td>1257.00</td>\n",
       "      <td>20.03</td>\n",
       "      <td>-165.67</td>\n",
       "      <td>23.00</td>\n",
       "      <td>1.325376e+09</td>\n",
       "      <td>19.03</td>\n",
       "      <td>-166.67</td>\n",
       "      <td>0.00</td>\n",
       "    </tr>\n",
       "    <tr>\n",
       "      <th>25%</th>\n",
       "      <td>324168.50</td>\n",
       "      <td>1.800429e+14</td>\n",
       "      <td>9.65</td>\n",
       "      <td>26237.00</td>\n",
       "      <td>34.62</td>\n",
       "      <td>-96.80</td>\n",
       "      <td>743.00</td>\n",
       "      <td>1.338751e+09</td>\n",
       "      <td>34.73</td>\n",
       "      <td>-96.90</td>\n",
       "      <td>0.00</td>\n",
       "    </tr>\n",
       "    <tr>\n",
       "      <th>50%</th>\n",
       "      <td>648337.00</td>\n",
       "      <td>3.521417e+15</td>\n",
       "      <td>47.52</td>\n",
       "      <td>48174.00</td>\n",
       "      <td>39.35</td>\n",
       "      <td>-87.48</td>\n",
       "      <td>2456.00</td>\n",
       "      <td>1.349250e+09</td>\n",
       "      <td>39.37</td>\n",
       "      <td>-87.44</td>\n",
       "      <td>0.00</td>\n",
       "    </tr>\n",
       "    <tr>\n",
       "      <th>75%</th>\n",
       "      <td>972505.50</td>\n",
       "      <td>4.642255e+15</td>\n",
       "      <td>83.14</td>\n",
       "      <td>72042.00</td>\n",
       "      <td>41.94</td>\n",
       "      <td>-80.16</td>\n",
       "      <td>20328.00</td>\n",
       "      <td>1.359385e+09</td>\n",
       "      <td>41.96</td>\n",
       "      <td>-80.24</td>\n",
       "      <td>0.00</td>\n",
       "    </tr>\n",
       "    <tr>\n",
       "      <th>max</th>\n",
       "      <td>1296674.00</td>\n",
       "      <td>4.992346e+18</td>\n",
       "      <td>28948.90</td>\n",
       "      <td>99783.00</td>\n",
       "      <td>66.69</td>\n",
       "      <td>-67.95</td>\n",
       "      <td>2906700.00</td>\n",
       "      <td>1.371817e+09</td>\n",
       "      <td>67.51</td>\n",
       "      <td>-66.95</td>\n",
       "      <td>1.00</td>\n",
       "    </tr>\n",
       "  </tbody>\n",
       "</table>\n",
       "</div>"
      ],
      "text/plain": [
       "       Unnamed: 0        cc_num         amt         zip         lat  \\\n",
       "count  1296675.00  1.296675e+06  1296675.00  1296675.00  1296675.00   \n",
       "mean    648337.00  4.171920e+17       70.35    48800.67       38.54   \n",
       "std     374317.97  1.308806e+18      160.32    26893.22        5.08   \n",
       "min          0.00  6.041621e+10        1.00     1257.00       20.03   \n",
       "25%     324168.50  1.800429e+14        9.65    26237.00       34.62   \n",
       "50%     648337.00  3.521417e+15       47.52    48174.00       39.35   \n",
       "75%     972505.50  4.642255e+15       83.14    72042.00       41.94   \n",
       "max    1296674.00  4.992346e+18    28948.90    99783.00       66.69   \n",
       "\n",
       "             long    city_pop     unix_time   merch_lat  merch_long  \\\n",
       "count  1296675.00  1296675.00  1.296675e+06  1296675.00  1296675.00   \n",
       "mean       -90.23    88824.44  1.349244e+09       38.54      -90.23   \n",
       "std         13.76   301956.36  1.284128e+07        5.11       13.77   \n",
       "min       -165.67       23.00  1.325376e+09       19.03     -166.67   \n",
       "25%        -96.80      743.00  1.338751e+09       34.73      -96.90   \n",
       "50%        -87.48     2456.00  1.349250e+09       39.37      -87.44   \n",
       "75%        -80.16    20328.00  1.359385e+09       41.96      -80.24   \n",
       "max        -67.95  2906700.00  1.371817e+09       67.51      -66.95   \n",
       "\n",
       "         is_fraud  \n",
       "count  1296675.00  \n",
       "mean         0.01  \n",
       "std          0.08  \n",
       "min          0.00  \n",
       "25%          0.00  \n",
       "50%          0.00  \n",
       "75%          0.00  \n",
       "max          1.00  "
      ]
     },
     "execution_count": 9,
     "metadata": {},
     "output_type": "execute_result"
    }
   ],
   "source": [
    "np.round(train_df.describe(), 2)"
   ]
  },
  {
   "cell_type": "code",
   "execution_count": 10,
   "id": "896ca793",
   "metadata": {
    "ExecuteTime": {
     "end_time": "2024-03-28T16:33:29.479356Z",
     "start_time": "2024-03-28T16:33:29.329841Z"
    }
   },
   "outputs": [
    {
     "data": {
      "text/plain": [
       "count    1296675.00\n",
       "mean          70.35\n",
       "std          160.32\n",
       "min            1.00\n",
       "25%            9.65\n",
       "50%           47.52\n",
       "75%           83.14\n",
       "max        28948.90\n",
       "Name: amt, dtype: float64"
      ]
     },
     "execution_count": 10,
     "metadata": {},
     "output_type": "execute_result"
    }
   ],
   "source": [
    "np.round(train_df['amt'].describe(),2)"
   ]
  },
  {
   "cell_type": "code",
   "execution_count": 11,
   "id": "6435382d",
   "metadata": {
    "ExecuteTime": {
     "end_time": "2024-03-28T16:33:42.679312Z",
     "start_time": "2024-03-28T16:33:40.889426Z"
    }
   },
   "outputs": [
    {
     "data": {
      "text/plain": [
       "<Axes: >"
      ]
     },
     "execution_count": 11,
     "metadata": {},
     "output_type": "execute_result"
    },
    {
     "data": {
      "image/png": "[encoded data removed]",
      "text/plain": [
       "<Figure size 640x480 with 1 Axes>"
      ]
     },
     "metadata": {},
     "output_type": "display_data"
    }
   ],
   "source": [
    "train_df['amt'].plot(kind='box')"
   ]
  },
  {
   "cell_type": "markdown",
   "id": "bed39844",
   "metadata": {},
   "source": [
    "## Issuses with the dataset\n",
    "\n",
    "- Incorrect datatype of `trans_date_trans_time`, `dob`, `unix_time`"
   ]
  },
  {
   "cell_type": "markdown",
   "id": "6de7c4d1",
   "metadata": {},
   "source": [
    "## EDA"
   ]
  },
  {
   "cell_type": "code",
   "execution_count": 12,
   "id": "27fcc20d",
   "metadata": {
    "ExecuteTime": {
     "end_time": "2024-03-28T16:36:09.514386Z",
     "start_time": "2024-03-28T16:36:08.975914Z"
    }
   },
   "outputs": [],
   "source": [
    "train_df.drop(columns=['Unnamed: 0'], inplace=True)"
   ]
  },
  {
   "cell_type": "code",
   "execution_count": 13,
   "id": "dab79451",
   "metadata": {
    "ExecuteTime": {
     "end_time": "2024-03-28T16:36:16.198741Z",
     "start_time": "2024-03-28T16:36:16.143164Z"
    }
   },
   "outputs": [
    {
     "data": {
      "text/html": [
       "<div>\n",
       "<style scoped>\n",
       "    .dataframe tbody tr th:only-of-type {\n",
       "        vertical-align: middle;\n",
       "    }\n",
       "\n",
       "    .dataframe tbody tr th {\n",
       "        vertical-align: top;\n",
       "    }\n",
       "\n",
       "    .dataframe thead th {\n",
       "        text-align: right;\n",
       "    }\n",
       "</style>\n",
       "<table border=\"1\" class=\"dataframe\">\n",
       "  <thead>\n",
       "    <tr style=\"text-align: right;\">\n",
       "      <th></th>\n",
       "      <th>trans_date_trans_time</th>\n",
       "      <th>cc_num</th>\n",
       "      <th>merchant</th>\n",
       "      <th>category</th>\n",
       "      <th>amt</th>\n",
       "      <th>first</th>\n",
       "      <th>last</th>\n",
       "      <th>gender</th>\n",
       "      <th>street</th>\n",
       "      <th>city</th>\n",
       "      <th>...</th>\n",
       "      <th>lat</th>\n",
       "      <th>long</th>\n",
       "      <th>city_pop</th>\n",
       "      <th>job</th>\n",
       "      <th>dob</th>\n",
       "      <th>trans_num</th>\n",
       "      <th>unix_time</th>\n",
       "      <th>merch_lat</th>\n",
       "      <th>merch_long</th>\n",
       "      <th>is_fraud</th>\n",
       "    </tr>\n",
       "  </thead>\n",
       "  <tbody>\n",
       "    <tr>\n",
       "      <th>0</th>\n",
       "      <td>2019-01-01 00:00:18</td>\n",
       "      <td>2703186189652095</td>\n",
       "      <td>fraud_Rippin, Kub and Mann</td>\n",
       "      <td>misc_net</td>\n",
       "      <td>4.97</td>\n",
       "      <td>Jennifer</td>\n",
       "      <td>Banks</td>\n",
       "      <td>F</td>\n",
       "      <td>561 Perry Cove</td>\n",
       "      <td>Moravian Falls</td>\n",
       "      <td>...</td>\n",
       "      <td>36.0788</td>\n",
       "      <td>-81.1781</td>\n",
       "      <td>3495</td>\n",
       "      <td>Psychologist, counselling</td>\n",
       "      <td>1988-03-09</td>\n",
       "      <td>0b242abb623afc578575680df30655b9</td>\n",
       "      <td>1325376018</td>\n",
       "      <td>36.011293</td>\n",
       "      <td>-82.048315</td>\n",
       "      <td>0</td>\n",
       "    </tr>\n",
       "    <tr>\n",
       "      <th>1</th>\n",
       "      <td>2019-01-01 00:00:44</td>\n",
       "      <td>630423337322</td>\n",
       "      <td>fraud_Heller, Gutmann and Zieme</td>\n",
       "      <td>grocery_pos</td>\n",
       "      <td>107.23</td>\n",
       "      <td>Stephanie</td>\n",
       "      <td>Gill</td>\n",
       "      <td>F</td>\n",
       "      <td>43039 Riley Greens Suite 393</td>\n",
       "      <td>Orient</td>\n",
       "      <td>...</td>\n",
       "      <td>48.8878</td>\n",
       "      <td>-118.2105</td>\n",
       "      <td>149</td>\n",
       "      <td>Special educational needs teacher</td>\n",
       "      <td>1978-06-21</td>\n",
       "      <td>1f76529f8574734946361c461b024d99</td>\n",
       "      <td>1325376044</td>\n",
       "      <td>49.159047</td>\n",
       "      <td>-118.186462</td>\n",
       "      <td>0</td>\n",
       "    </tr>\n",
       "    <tr>\n",
       "      <th>2</th>\n",
       "      <td>2019-01-01 00:00:51</td>\n",
       "      <td>38859492057661</td>\n",
       "      <td>fraud_Lind-Buckridge</td>\n",
       "      <td>entertainment</td>\n",
       "      <td>220.11</td>\n",
       "      <td>Edward</td>\n",
       "      <td>Sanchez</td>\n",
       "      <td>M</td>\n",
       "      <td>594 White Dale Suite 530</td>\n",
       "      <td>Malad City</td>\n",
       "      <td>...</td>\n",
       "      <td>42.1808</td>\n",
       "      <td>-112.2620</td>\n",
       "      <td>4154</td>\n",
       "      <td>Nature conservation officer</td>\n",
       "      <td>1962-01-19</td>\n",
       "      <td>a1a22d70485983eac12b5b88dad1cf95</td>\n",
       "      <td>1325376051</td>\n",
       "      <td>43.150704</td>\n",
       "      <td>-112.154481</td>\n",
       "      <td>0</td>\n",
       "    </tr>\n",
       "    <tr>\n",
       "      <th>3</th>\n",
       "      <td>2019-01-01 00:01:16</td>\n",
       "      <td>3534093764340240</td>\n",
       "      <td>fraud_Kutch, Hermiston and Farrell</td>\n",
       "      <td>gas_transport</td>\n",
       "      <td>45.00</td>\n",
       "      <td>Jeremy</td>\n",
       "      <td>White</td>\n",
       "      <td>M</td>\n",
       "      <td>9443 Cynthia Court Apt. 038</td>\n",
       "      <td>Boulder</td>\n",
       "      <td>...</td>\n",
       "      <td>46.2306</td>\n",
       "      <td>-112.1138</td>\n",
       "      <td>1939</td>\n",
       "      <td>Patent attorney</td>\n",
       "      <td>1967-01-12</td>\n",
       "      <td>6b849c168bdad6f867558c3793159a81</td>\n",
       "      <td>1325376076</td>\n",
       "      <td>47.034331</td>\n",
       "      <td>-112.561071</td>\n",
       "      <td>0</td>\n",
       "    </tr>\n",
       "    <tr>\n",
       "      <th>4</th>\n",
       "      <td>2019-01-01 00:03:06</td>\n",
       "      <td>375534208663984</td>\n",
       "      <td>fraud_Keeling-Crist</td>\n",
       "      <td>misc_pos</td>\n",
       "      <td>41.96</td>\n",
       "      <td>Tyler</td>\n",
       "      <td>Garcia</td>\n",
       "      <td>M</td>\n",
       "      <td>408 Bradley Rest</td>\n",
       "      <td>Doe Hill</td>\n",
       "      <td>...</td>\n",
       "      <td>38.4207</td>\n",
       "      <td>-79.4629</td>\n",
       "      <td>99</td>\n",
       "      <td>Dance movement psychotherapist</td>\n",
       "      <td>1986-03-28</td>\n",
       "      <td>a41d7549acf90789359a9aa5346dcb46</td>\n",
       "      <td>1325376186</td>\n",
       "      <td>38.674999</td>\n",
       "      <td>-78.632459</td>\n",
       "      <td>0</td>\n",
       "    </tr>\n",
       "  </tbody>\n",
       "</table>\n",
       "<p>5 rows × 22 columns</p>\n",
       "</div>"
      ],
      "text/plain": [
       "  trans_date_trans_time            cc_num                            merchant  \\\n",
       "0   2019-01-01 00:00:18  2703186189652095          fraud_Rippin, Kub and Mann   \n",
       "1   2019-01-01 00:00:44      630423337322     fraud_Heller, Gutmann and Zieme   \n",
       "2   2019-01-01 00:00:51    38859492057661                fraud_Lind-Buckridge   \n",
       "3   2019-01-01 00:01:16  3534093764340240  fraud_Kutch, Hermiston and Farrell   \n",
       "4   2019-01-01 00:03:06   375534208663984                 fraud_Keeling-Crist   \n",
       "\n",
       "        category     amt      first     last gender  \\\n",
       "0       misc_net    4.97   Jennifer    Banks      F   \n",
       "1    grocery_pos  107.23  Stephanie     Gill      F   \n",
       "2  entertainment  220.11     Edward  Sanchez      M   \n",
       "3  gas_transport   45.00     Jeremy    White      M   \n",
       "4       misc_pos   41.96      Tyler   Garcia      M   \n",
       "\n",
       "                         street            city  ...      lat      long  \\\n",
       "0                561 Perry Cove  Moravian Falls  ...  36.0788  -81.1781   \n",
       "1  43039 Riley Greens Suite 393          Orient  ...  48.8878 -118.2105   \n",
       "2      594 White Dale Suite 530      Malad City  ...  42.1808 -112.2620   \n",
       "3   9443 Cynthia Court Apt. 038         Boulder  ...  46.2306 -112.1138   \n",
       "4              408 Bradley Rest        Doe Hill  ...  38.4207  -79.4629   \n",
       "\n",
       "   city_pop                                job         dob  \\\n",
       "0      3495          Psychologist, counselling  1988-03-09   \n",
       "1       149  Special educational needs teacher  1978-06-21   \n",
       "2      4154        Nature conservation officer  1962-01-19   \n",
       "3      1939                    Patent attorney  1967-01-12   \n",
       "4        99     Dance movement psychotherapist  1986-03-28   \n",
       "\n",
       "                          trans_num   unix_time  merch_lat  merch_long  \\\n",
       "0  0b242abb623afc578575680df30655b9  1325376018  36.011293  -82.048315   \n",
       "1  1f76529f8574734946361c461b024d99  1325376044  49.159047 -118.186462   \n",
       "2  a1a22d70485983eac12b5b88dad1cf95  1325376051  43.150704 -112.154481   \n",
       "3  6b849c168bdad6f867558c3793159a81  1325376076  47.034331 -112.561071   \n",
       "4  a41d7549acf90789359a9aa5346dcb46  1325376186  38.674999  -78.632459   \n",
       "\n",
       "   is_fraud  \n",
       "0         0  \n",
       "1         0  \n",
       "2         0  \n",
       "3         0  \n",
       "4         0  \n",
       "\n",
       "[5 rows x 22 columns]"
      ]
     },
     "execution_count": 13,
     "metadata": {},
     "output_type": "execute_result"
    }
   ],
   "source": [
    "train_df.head()"
   ]
  },
  {
   "cell_type": "code",
   "execution_count": 14,
   "id": "e60f5fbe",
   "metadata": {
    "ExecuteTime": {
     "end_time": "2024-03-28T16:36:32.887215Z",
     "start_time": "2024-03-28T16:36:32.876291Z"
    }
   },
   "outputs": [],
   "source": [
    "train_df.rename(columns={\"trans_date_trans_time\":\"transaction_time\",\n",
    "                         \"cc_num\":\"credit_card_number\",\n",
    "                         \"amt\":\"amount(usd)\",\n",
    "                         \"trans_num\":\"transaction_id\"},\n",
    "                inplace=True)"
   ]
  },
  {
   "cell_type": "code",
   "execution_count": 15,
   "id": "8e19453c",
   "metadata": {
    "ExecuteTime": {
     "end_time": "2024-03-28T16:36:43.171838Z",
     "start_time": "2024-03-28T16:36:38.985426Z"
    }
   },
   "outputs": [],
   "source": [
    "train_df[\"transaction_time\"] = pd.to_datetime(train_df[\"transaction_time\"], infer_datetime_format=True)\n",
    "train_df[\"dob\"] = pd.to_datetime(train_df[\"dob\"], infer_datetime_format=True)"
   ]
  },
  {
   "cell_type": "code",
   "execution_count": 16,
   "id": "39450684",
   "metadata": {
    "ExecuteTime": {
     "end_time": "2024-03-28T16:36:53.235687Z",
     "start_time": "2024-03-28T16:36:48.747494Z"
    }
   },
   "outputs": [],
   "source": [
    "from datetime import datetime\n",
    "\n",
    "# Apply function utcfromtimestamp and drop column unix_time\n",
    "train_df['time'] = train_df['unix_time'].apply(datetime.utcfromtimestamp)\n",
    "train_df.drop('unix_time', axis=1)\n",
    "\n",
    "# Add cloumn hour of day\n",
    "train_df['hour_of_day'] = train_df.time.dt.hour"
   ]
  },
  {
   "cell_type": "code",
   "execution_count": 17,
   "id": "f753cf1e",
   "metadata": {
    "ExecuteTime": {
     "end_time": "2024-03-28T16:36:53.290640Z",
     "start_time": "2024-03-28T16:36:53.243779Z"
    }
   },
   "outputs": [
    {
     "data": {
      "text/html": [
       "<div>\n",
       "<style scoped>\n",
       "    .dataframe tbody tr th:only-of-type {\n",
       "        vertical-align: middle;\n",
       "    }\n",
       "\n",
       "    .dataframe tbody tr th {\n",
       "        vertical-align: top;\n",
       "    }\n",
       "\n",
       "    .dataframe thead th {\n",
       "        text-align: right;\n",
       "    }\n",
       "</style>\n",
       "<table border=\"1\" class=\"dataframe\">\n",
       "  <thead>\n",
       "    <tr style=\"text-align: right;\">\n",
       "      <th></th>\n",
       "      <th>time</th>\n",
       "      <th>hour_of_day</th>\n",
       "    </tr>\n",
       "  </thead>\n",
       "  <tbody>\n",
       "    <tr>\n",
       "      <th>0</th>\n",
       "      <td>2012-01-01 00:00:18</td>\n",
       "      <td>0</td>\n",
       "    </tr>\n",
       "    <tr>\n",
       "      <th>1</th>\n",
       "      <td>2012-01-01 00:00:44</td>\n",
       "      <td>0</td>\n",
       "    </tr>\n",
       "    <tr>\n",
       "      <th>2</th>\n",
       "      <td>2012-01-01 00:00:51</td>\n",
       "      <td>0</td>\n",
       "    </tr>\n",
       "    <tr>\n",
       "      <th>3</th>\n",
       "      <td>2012-01-01 00:01:16</td>\n",
       "      <td>0</td>\n",
       "    </tr>\n",
       "    <tr>\n",
       "      <th>4</th>\n",
       "      <td>2012-01-01 00:03:06</td>\n",
       "      <td>0</td>\n",
       "    </tr>\n",
       "    <tr>\n",
       "      <th>...</th>\n",
       "      <td>...</td>\n",
       "      <td>...</td>\n",
       "    </tr>\n",
       "    <tr>\n",
       "      <th>1296670</th>\n",
       "      <td>2013-06-21 12:12:08</td>\n",
       "      <td>12</td>\n",
       "    </tr>\n",
       "    <tr>\n",
       "      <th>1296671</th>\n",
       "      <td>2013-06-21 12:12:19</td>\n",
       "      <td>12</td>\n",
       "    </tr>\n",
       "    <tr>\n",
       "      <th>1296672</th>\n",
       "      <td>2013-06-21 12:12:32</td>\n",
       "      <td>12</td>\n",
       "    </tr>\n",
       "    <tr>\n",
       "      <th>1296673</th>\n",
       "      <td>2013-06-21 12:13:36</td>\n",
       "      <td>12</td>\n",
       "    </tr>\n",
       "    <tr>\n",
       "      <th>1296674</th>\n",
       "      <td>2013-06-21 12:13:37</td>\n",
       "      <td>12</td>\n",
       "    </tr>\n",
       "  </tbody>\n",
       "</table>\n",
       "<p>1296675 rows × 2 columns</p>\n",
       "</div>"
      ],
      "text/plain": [
       "                       time  hour_of_day\n",
       "0       2012-01-01 00:00:18            0\n",
       "1       2012-01-01 00:00:44            0\n",
       "2       2012-01-01 00:00:51            0\n",
       "3       2012-01-01 00:01:16            0\n",
       "4       2012-01-01 00:03:06            0\n",
       "...                     ...          ...\n",
       "1296670 2013-06-21 12:12:08           12\n",
       "1296671 2013-06-21 12:12:19           12\n",
       "1296672 2013-06-21 12:12:32           12\n",
       "1296673 2013-06-21 12:13:36           12\n",
       "1296674 2013-06-21 12:13:37           12\n",
       "\n",
       "[1296675 rows x 2 columns]"
      ]
     },
     "execution_count": 17,
     "metadata": {},
     "output_type": "execute_result"
    }
   ],
   "source": [
    "train_df[['time','hour_of_day']]"
   ]
  },
  {
   "cell_type": "code",
   "execution_count": 18,
   "id": "87be87a5",
   "metadata": {
    "ExecuteTime": {
     "end_time": "2024-03-28T16:36:59.931963Z",
     "start_time": "2024-03-28T16:36:59.729917Z"
    }
   },
   "outputs": [],
   "source": [
    "train_df.credit_card_number = train_df.credit_card_number.astype('category')\n",
    "train_df.is_fraud =train_df.is_fraud.astype('category')\n",
    "train_df.hour_of_day = train_df.hour_of_day.astype('category')"
   ]
  },
  {
   "cell_type": "code",
   "execution_count": 19,
   "id": "f744f387",
   "metadata": {
    "ExecuteTime": {
     "end_time": "2024-03-28T16:37:17.235666Z",
     "start_time": "2024-03-28T16:37:15.610661Z"
    }
   },
   "outputs": [
    {
     "data": {
      "text/html": [
       "<div>\n",
       "<style scoped>\n",
       "    .dataframe tbody tr th:only-of-type {\n",
       "        vertical-align: middle;\n",
       "    }\n",
       "\n",
       "    .dataframe tbody tr th {\n",
       "        vertical-align: top;\n",
       "    }\n",
       "\n",
       "    .dataframe thead th {\n",
       "        text-align: right;\n",
       "    }\n",
       "</style>\n",
       "<table border=\"1\" class=\"dataframe\">\n",
       "  <thead>\n",
       "    <tr style=\"text-align: right;\">\n",
       "      <th></th>\n",
       "      <th>transaction_time</th>\n",
       "      <th>credit_card_number</th>\n",
       "      <th>merchant</th>\n",
       "      <th>category</th>\n",
       "      <th>amount(usd)</th>\n",
       "      <th>first</th>\n",
       "      <th>last</th>\n",
       "      <th>gender</th>\n",
       "      <th>street</th>\n",
       "      <th>city</th>\n",
       "      <th>...</th>\n",
       "      <th>city_pop</th>\n",
       "      <th>job</th>\n",
       "      <th>dob</th>\n",
       "      <th>transaction_id</th>\n",
       "      <th>unix_time</th>\n",
       "      <th>merch_lat</th>\n",
       "      <th>merch_long</th>\n",
       "      <th>is_fraud</th>\n",
       "      <th>time</th>\n",
       "      <th>hour_of_day</th>\n",
       "    </tr>\n",
       "  </thead>\n",
       "  <tbody>\n",
       "    <tr>\n",
       "      <th>0</th>\n",
       "      <td>2019-01-01 00:00:18</td>\n",
       "      <td>2703186189652095</td>\n",
       "      <td>fraud_Rippin, Kub and Mann</td>\n",
       "      <td>misc_net</td>\n",
       "      <td>4.97</td>\n",
       "      <td>Jennifer</td>\n",
       "      <td>Banks</td>\n",
       "      <td>F</td>\n",
       "      <td>561 Perry Cove</td>\n",
       "      <td>Moravian Falls</td>\n",
       "      <td>...</td>\n",
       "      <td>3495</td>\n",
       "      <td>Psychologist, counselling</td>\n",
       "      <td>1988-03-09</td>\n",
       "      <td>0b242abb623afc578575680df30655b9</td>\n",
       "      <td>1325376018</td>\n",
       "      <td>36.011293</td>\n",
       "      <td>-82.048315</td>\n",
       "      <td>0</td>\n",
       "      <td>2012-01-01 00:00:18</td>\n",
       "      <td>0</td>\n",
       "    </tr>\n",
       "    <tr>\n",
       "      <th>1</th>\n",
       "      <td>2019-01-01 00:00:44</td>\n",
       "      <td>630423337322</td>\n",
       "      <td>fraud_Heller, Gutmann and Zieme</td>\n",
       "      <td>grocery_pos</td>\n",
       "      <td>107.23</td>\n",
       "      <td>Stephanie</td>\n",
       "      <td>Gill</td>\n",
       "      <td>F</td>\n",
       "      <td>43039 Riley Greens Suite 393</td>\n",
       "      <td>Orient</td>\n",
       "      <td>...</td>\n",
       "      <td>149</td>\n",
       "      <td>Special educational needs teacher</td>\n",
       "      <td>1978-06-21</td>\n",
       "      <td>1f76529f8574734946361c461b024d99</td>\n",
       "      <td>1325376044</td>\n",
       "      <td>49.159047</td>\n",
       "      <td>-118.186462</td>\n",
       "      <td>0</td>\n",
       "      <td>2012-01-01 00:00:44</td>\n",
       "      <td>0</td>\n",
       "    </tr>\n",
       "    <tr>\n",
       "      <th>2</th>\n",
       "      <td>2019-01-01 00:00:51</td>\n",
       "      <td>38859492057661</td>\n",
       "      <td>fraud_Lind-Buckridge</td>\n",
       "      <td>entertainment</td>\n",
       "      <td>220.11</td>\n",
       "      <td>Edward</td>\n",
       "      <td>Sanchez</td>\n",
       "      <td>M</td>\n",
       "      <td>594 White Dale Suite 530</td>\n",
       "      <td>Malad City</td>\n",
       "      <td>...</td>\n",
       "      <td>4154</td>\n",
       "      <td>Nature conservation officer</td>\n",
       "      <td>1962-01-19</td>\n",
       "      <td>a1a22d70485983eac12b5b88dad1cf95</td>\n",
       "      <td>1325376051</td>\n",
       "      <td>43.150704</td>\n",
       "      <td>-112.154481</td>\n",
       "      <td>0</td>\n",
       "      <td>2012-01-01 00:00:51</td>\n",
       "      <td>0</td>\n",
       "    </tr>\n",
       "    <tr>\n",
       "      <th>3</th>\n",
       "      <td>2019-01-01 00:01:16</td>\n",
       "      <td>3534093764340240</td>\n",
       "      <td>fraud_Kutch, Hermiston and Farrell</td>\n",
       "      <td>gas_transport</td>\n",
       "      <td>45.00</td>\n",
       "      <td>Jeremy</td>\n",
       "      <td>White</td>\n",
       "      <td>M</td>\n",
       "      <td>9443 Cynthia Court Apt. 038</td>\n",
       "      <td>Boulder</td>\n",
       "      <td>...</td>\n",
       "      <td>1939</td>\n",
       "      <td>Patent attorney</td>\n",
       "      <td>1967-01-12</td>\n",
       "      <td>6b849c168bdad6f867558c3793159a81</td>\n",
       "      <td>1325376076</td>\n",
       "      <td>47.034331</td>\n",
       "      <td>-112.561071</td>\n",
       "      <td>0</td>\n",
       "      <td>2012-01-01 00:01:16</td>\n",
       "      <td>0</td>\n",
       "    </tr>\n",
       "    <tr>\n",
       "      <th>4</th>\n",
       "      <td>2019-01-01 00:03:06</td>\n",
       "      <td>375534208663984</td>\n",
       "      <td>fraud_Keeling-Crist</td>\n",
       "      <td>misc_pos</td>\n",
       "      <td>41.96</td>\n",
       "      <td>Tyler</td>\n",
       "      <td>Garcia</td>\n",
       "      <td>M</td>\n",
       "      <td>408 Bradley Rest</td>\n",
       "      <td>Doe Hill</td>\n",
       "      <td>...</td>\n",
       "      <td>99</td>\n",
       "      <td>Dance movement psychotherapist</td>\n",
       "      <td>1986-03-28</td>\n",
       "      <td>a41d7549acf90789359a9aa5346dcb46</td>\n",
       "      <td>1325376186</td>\n",
       "      <td>38.674999</td>\n",
       "      <td>-78.632459</td>\n",
       "      <td>0</td>\n",
       "      <td>2012-01-01 00:03:06</td>\n",
       "      <td>0</td>\n",
       "    </tr>\n",
       "    <tr>\n",
       "      <th>...</th>\n",
       "      <td>...</td>\n",
       "      <td>...</td>\n",
       "      <td>...</td>\n",
       "      <td>...</td>\n",
       "      <td>...</td>\n",
       "      <td>...</td>\n",
       "      <td>...</td>\n",
       "      <td>...</td>\n",
       "      <td>...</td>\n",
       "      <td>...</td>\n",
       "      <td>...</td>\n",
       "      <td>...</td>\n",
       "      <td>...</td>\n",
       "      <td>...</td>\n",
       "      <td>...</td>\n",
       "      <td>...</td>\n",
       "      <td>...</td>\n",
       "      <td>...</td>\n",
       "      <td>...</td>\n",
       "      <td>...</td>\n",
       "      <td>...</td>\n",
       "    </tr>\n",
       "    <tr>\n",
       "      <th>1296670</th>\n",
       "      <td>2020-06-21 12:12:08</td>\n",
       "      <td>30263540414123</td>\n",
       "      <td>fraud_Reichel Inc</td>\n",
       "      <td>entertainment</td>\n",
       "      <td>15.56</td>\n",
       "      <td>Erik</td>\n",
       "      <td>Patterson</td>\n",
       "      <td>M</td>\n",
       "      <td>162 Jessica Row Apt. 072</td>\n",
       "      <td>Hatch</td>\n",
       "      <td>...</td>\n",
       "      <td>258</td>\n",
       "      <td>Geoscientist</td>\n",
       "      <td>1961-11-24</td>\n",
       "      <td>440b587732da4dc1a6395aba5fb41669</td>\n",
       "      <td>1371816728</td>\n",
       "      <td>36.841266</td>\n",
       "      <td>-111.690765</td>\n",
       "      <td>0</td>\n",
       "      <td>2013-06-21 12:12:08</td>\n",
       "      <td>12</td>\n",
       "    </tr>\n",
       "    <tr>\n",
       "      <th>1296671</th>\n",
       "      <td>2020-06-21 12:12:19</td>\n",
       "      <td>6011149206456997</td>\n",
       "      <td>fraud_Abernathy and Sons</td>\n",
       "      <td>food_dining</td>\n",
       "      <td>51.70</td>\n",
       "      <td>Jeffrey</td>\n",
       "      <td>White</td>\n",
       "      <td>M</td>\n",
       "      <td>8617 Holmes Terrace Suite 651</td>\n",
       "      <td>Tuscarora</td>\n",
       "      <td>...</td>\n",
       "      <td>100</td>\n",
       "      <td>Production assistant, television</td>\n",
       "      <td>1979-12-11</td>\n",
       "      <td>278000d2e0d2277d1de2f890067dcc0a</td>\n",
       "      <td>1371816739</td>\n",
       "      <td>38.906881</td>\n",
       "      <td>-78.246528</td>\n",
       "      <td>0</td>\n",
       "      <td>2013-06-21 12:12:19</td>\n",
       "      <td>12</td>\n",
       "    </tr>\n",
       "    <tr>\n",
       "      <th>1296672</th>\n",
       "      <td>2020-06-21 12:12:32</td>\n",
       "      <td>3514865930894695</td>\n",
       "      <td>fraud_Stiedemann Ltd</td>\n",
       "      <td>food_dining</td>\n",
       "      <td>105.93</td>\n",
       "      <td>Christopher</td>\n",
       "      <td>Castaneda</td>\n",
       "      <td>M</td>\n",
       "      <td>1632 Cohen Drive Suite 639</td>\n",
       "      <td>High Rolls Mountain Park</td>\n",
       "      <td>...</td>\n",
       "      <td>899</td>\n",
       "      <td>Naval architect</td>\n",
       "      <td>1967-08-30</td>\n",
       "      <td>483f52fe67fabef353d552c1e662974c</td>\n",
       "      <td>1371816752</td>\n",
       "      <td>33.619513</td>\n",
       "      <td>-105.130529</td>\n",
       "      <td>0</td>\n",
       "      <td>2013-06-21 12:12:32</td>\n",
       "      <td>12</td>\n",
       "    </tr>\n",
       "    <tr>\n",
       "      <th>1296673</th>\n",
       "      <td>2020-06-21 12:13:36</td>\n",
       "      <td>2720012583106919</td>\n",
       "      <td>fraud_Reinger, Weissnat and Strosin</td>\n",
       "      <td>food_dining</td>\n",
       "      <td>74.90</td>\n",
       "      <td>Joseph</td>\n",
       "      <td>Murray</td>\n",
       "      <td>M</td>\n",
       "      <td>42933 Ryan Underpass</td>\n",
       "      <td>Manderson</td>\n",
       "      <td>...</td>\n",
       "      <td>1126</td>\n",
       "      <td>Volunteer coordinator</td>\n",
       "      <td>1980-08-18</td>\n",
       "      <td>d667cdcbadaaed3da3f4020e83591c83</td>\n",
       "      <td>1371816816</td>\n",
       "      <td>42.788940</td>\n",
       "      <td>-103.241160</td>\n",
       "      <td>0</td>\n",
       "      <td>2013-06-21 12:13:36</td>\n",
       "      <td>12</td>\n",
       "    </tr>\n",
       "    <tr>\n",
       "      <th>1296674</th>\n",
       "      <td>2020-06-21 12:13:37</td>\n",
       "      <td>4292902571056973207</td>\n",
       "      <td>fraud_Langosh, Wintheiser and Hyatt</td>\n",
       "      <td>food_dining</td>\n",
       "      <td>4.30</td>\n",
       "      <td>Jeffrey</td>\n",
       "      <td>Smith</td>\n",
       "      <td>M</td>\n",
       "      <td>135 Joseph Mountains</td>\n",
       "      <td>Sula</td>\n",
       "      <td>...</td>\n",
       "      <td>218</td>\n",
       "      <td>Therapist, horticultural</td>\n",
       "      <td>1995-08-16</td>\n",
       "      <td>8f7c8e4ab7f25875d753b422917c98c9</td>\n",
       "      <td>1371816817</td>\n",
       "      <td>46.565983</td>\n",
       "      <td>-114.186110</td>\n",
       "      <td>0</td>\n",
       "      <td>2013-06-21 12:13:37</td>\n",
       "      <td>12</td>\n",
       "    </tr>\n",
       "  </tbody>\n",
       "</table>\n",
       "<p>1296675 rows × 24 columns</p>\n",
       "</div>"
      ],
      "text/plain": [
       "           transaction_time   credit_card_number  \\\n",
       "0       2019-01-01 00:00:18     2703186189652095   \n",
       "1       2019-01-01 00:00:44         630423337322   \n",
       "2       2019-01-01 00:00:51       38859492057661   \n",
       "3       2019-01-01 00:01:16     3534093764340240   \n",
       "4       2019-01-01 00:03:06      375534208663984   \n",
       "...                     ...                  ...   \n",
       "1296670 2020-06-21 12:12:08       30263540414123   \n",
       "1296671 2020-06-21 12:12:19     6011149206456997   \n",
       "1296672 2020-06-21 12:12:32     3514865930894695   \n",
       "1296673 2020-06-21 12:13:36     2720012583106919   \n",
       "1296674 2020-06-21 12:13:37  4292902571056973207   \n",
       "\n",
       "                                    merchant       category  amount(usd)  \\\n",
       "0                 fraud_Rippin, Kub and Mann       misc_net         4.97   \n",
       "1            fraud_Heller, Gutmann and Zieme    grocery_pos       107.23   \n",
       "2                       fraud_Lind-Buckridge  entertainment       220.11   \n",
       "3         fraud_Kutch, Hermiston and Farrell  gas_transport        45.00   \n",
       "4                        fraud_Keeling-Crist       misc_pos        41.96   \n",
       "...                                      ...            ...          ...   \n",
       "1296670                    fraud_Reichel Inc  entertainment        15.56   \n",
       "1296671             fraud_Abernathy and Sons    food_dining        51.70   \n",
       "1296672                 fraud_Stiedemann Ltd    food_dining       105.93   \n",
       "1296673  fraud_Reinger, Weissnat and Strosin    food_dining        74.90   \n",
       "1296674  fraud_Langosh, Wintheiser and Hyatt    food_dining         4.30   \n",
       "\n",
       "               first       last gender                         street  \\\n",
       "0           Jennifer      Banks      F                 561 Perry Cove   \n",
       "1          Stephanie       Gill      F   43039 Riley Greens Suite 393   \n",
       "2             Edward    Sanchez      M       594 White Dale Suite 530   \n",
       "3             Jeremy      White      M    9443 Cynthia Court Apt. 038   \n",
       "4              Tyler     Garcia      M               408 Bradley Rest   \n",
       "...              ...        ...    ...                            ...   \n",
       "1296670         Erik  Patterson      M       162 Jessica Row Apt. 072   \n",
       "1296671      Jeffrey      White      M  8617 Holmes Terrace Suite 651   \n",
       "1296672  Christopher  Castaneda      M     1632 Cohen Drive Suite 639   \n",
       "1296673       Joseph     Murray      M           42933 Ryan Underpass   \n",
       "1296674      Jeffrey      Smith      M           135 Joseph Mountains   \n",
       "\n",
       "                             city  ... city_pop  \\\n",
       "0                  Moravian Falls  ...     3495   \n",
       "1                          Orient  ...      149   \n",
       "2                      Malad City  ...     4154   \n",
       "3                         Boulder  ...     1939   \n",
       "4                        Doe Hill  ...       99   \n",
       "...                           ...  ...      ...   \n",
       "1296670                     Hatch  ...      258   \n",
       "1296671                 Tuscarora  ...      100   \n",
       "1296672  High Rolls Mountain Park  ...      899   \n",
       "1296673                 Manderson  ...     1126   \n",
       "1296674                      Sula  ...      218   \n",
       "\n",
       "                                       job        dob  \\\n",
       "0                Psychologist, counselling 1988-03-09   \n",
       "1        Special educational needs teacher 1978-06-21   \n",
       "2              Nature conservation officer 1962-01-19   \n",
       "3                          Patent attorney 1967-01-12   \n",
       "4           Dance movement psychotherapist 1986-03-28   \n",
       "...                                    ...        ...   \n",
       "1296670                       Geoscientist 1961-11-24   \n",
       "1296671   Production assistant, television 1979-12-11   \n",
       "1296672                    Naval architect 1967-08-30   \n",
       "1296673              Volunteer coordinator 1980-08-18   \n",
       "1296674           Therapist, horticultural 1995-08-16   \n",
       "\n",
       "                           transaction_id   unix_time  merch_lat  merch_long  \\\n",
       "0        0b242abb623afc578575680df30655b9  1325376018  36.011293  -82.048315   \n",
       "1        1f76529f8574734946361c461b024d99  1325376044  49.159047 -118.186462   \n",
       "2        a1a22d70485983eac12b5b88dad1cf95  1325376051  43.150704 -112.154481   \n",
       "3        6b849c168bdad6f867558c3793159a81  1325376076  47.034331 -112.561071   \n",
       "4        a41d7549acf90789359a9aa5346dcb46  1325376186  38.674999  -78.632459   \n",
       "...                                   ...         ...        ...         ...   \n",
       "1296670  440b587732da4dc1a6395aba5fb41669  1371816728  36.841266 -111.690765   \n",
       "1296671  278000d2e0d2277d1de2f890067dcc0a  1371816739  38.906881  -78.246528   \n",
       "1296672  483f52fe67fabef353d552c1e662974c  1371816752  33.619513 -105.130529   \n",
       "1296673  d667cdcbadaaed3da3f4020e83591c83  1371816816  42.788940 -103.241160   \n",
       "1296674  8f7c8e4ab7f25875d753b422917c98c9  1371816817  46.565983 -114.186110   \n",
       "\n",
       "        is_fraud                time  hour_of_day  \n",
       "0              0 2012-01-01 00:00:18            0  \n",
       "1              0 2012-01-01 00:00:44            0  \n",
       "2              0 2012-01-01 00:00:51            0  \n",
       "3              0 2012-01-01 00:01:16            0  \n",
       "4              0 2012-01-01 00:03:06            0  \n",
       "...          ...                 ...          ...  \n",
       "1296670        0 2013-06-21 12:12:08           12  \n",
       "1296671        0 2013-06-21 12:12:19           12  \n",
       "1296672        0 2013-06-21 12:12:32           12  \n",
       "1296673        0 2013-06-21 12:13:36           12  \n",
       "1296674        0 2013-06-21 12:13:37           12  \n",
       "\n",
       "[1296675 rows x 24 columns]"
      ]
     },
     "execution_count": 19,
     "metadata": {},
     "output_type": "execute_result"
    }
   ],
   "source": [
    "train_df"
   ]
  },
  {
   "cell_type": "code",
   "execution_count": 20,
   "id": "fa5c5c17",
   "metadata": {
    "ExecuteTime": {
     "end_time": "2024-03-28T16:37:25.601476Z",
     "start_time": "2024-03-28T16:37:24.332604Z"
    }
   },
   "outputs": [
    {
     "name": "stdout",
     "output_type": "stream",
     "text": [
      "<class 'pandas.core.frame.DataFrame'>\n",
      "RangeIndex: 1296675 entries, 0 to 1296674\n",
      "Data columns (total 24 columns):\n",
      " #   Column              Non-Null Count    Dtype         \n",
      "---  ------              --------------    -----         \n",
      " 0   transaction_time    1296675 non-null  datetime64[ns]\n",
      " 1   credit_card_number  1296675 non-null  category      \n",
      " 2   merchant            1296675 non-null  object        \n",
      " 3   category            1296675 non-null  object        \n",
      " 4   amount(usd)         1296675 non-null  float64       \n",
      " 5   first               1296675 non-null  object        \n",
      " 6   last                1296675 non-null  object        \n",
      " 7   gender              1296675 non-null  object        \n",
      " 8   street              1296675 non-null  object        \n",
      " 9   city                1296675 non-null  object        \n",
      " 10  state               1296675 non-null  object        \n",
      " 11  zip                 1296675 non-null  int64         \n",
      " 12  lat                 1296675 non-null  float64       \n",
      " 13  long                1296675 non-null  float64       \n",
      " 14  city_pop            1296675 non-null  int64         \n",
      " 15  job                 1296675 non-null  object        \n",
      " 16  dob                 1296675 non-null  datetime64[ns]\n",
      " 17  transaction_id      1296675 non-null  object        \n",
      " 18  unix_time           1296675 non-null  int64         \n",
      " 19  merch_lat           1296675 non-null  float64       \n",
      " 20  merch_long          1296675 non-null  float64       \n",
      " 21  is_fraud            1296675 non-null  category      \n",
      " 22  time                1296675 non-null  datetime64[ns]\n",
      " 23  hour_of_day         1296675 non-null  category      \n",
      "dtypes: category(3), datetime64[ns](3), float64(5), int64(3), object(10)\n",
      "memory usage: 212.7+ MB\n"
     ]
    }
   ],
   "source": [
    "train_df.info()"
   ]
  },
  {
   "cell_type": "code",
   "execution_count": 21,
   "id": "f2ef2665",
   "metadata": {
    "ExecuteTime": {
     "end_time": "2024-03-28T16:37:32.540901Z",
     "start_time": "2024-03-28T16:37:32.499300Z"
    }
   },
   "outputs": [
    {
     "data": {
      "text/plain": [
       "is_fraud\n",
       "0    1289169\n",
       "1       7506\n",
       "Name: count, dtype: int64"
      ]
     },
     "execution_count": 21,
     "metadata": {},
     "output_type": "execute_result"
    }
   ],
   "source": [
    "train_df['is_fraud'].value_counts()"
   ]
  },
  {
   "cell_type": "code",
   "execution_count": 22,
   "id": "7056ac19",
   "metadata": {
    "ExecuteTime": {
     "end_time": "2024-03-28T16:37:54.449797Z",
     "start_time": "2024-03-28T16:37:54.051948Z"
    }
   },
   "outputs": [
    {
     "data": {
      "text/plain": [
       "<matplotlib.legend.Legend at 0x20010ee23d0>"
      ]
     },
     "execution_count": 22,
     "metadata": {},
     "output_type": "execute_result"
    },
    {
     "data": {
      "image/png": "[encoded data removed]",
      "text/plain": [
       "<Figure size 640x480 with 1 Axes>"
      ]
     },
     "metadata": {},
     "output_type": "display_data"
    }
   ],
   "source": [
    "train_df['is_fraud'].value_counts().plot(kind='pie',autopct='%0.1f%%')\n",
    "plt.legend()"
   ]
  },
  {
   "cell_type": "code",
   "execution_count": 23,
   "id": "c1624f70",
   "metadata": {
    "ExecuteTime": {
     "end_time": "2024-03-28T16:38:12.827934Z",
     "start_time": "2024-03-28T16:38:12.475942Z"
    }
   },
   "outputs": [
    {
     "data": {
      "text/plain": [
       "job\n",
       "Film/video editor             9779\n",
       "Exhibition designer           9199\n",
       "Naval architect               8684\n",
       "Surveyor, land/geomatics      8680\n",
       "Materials engineer            8270\n",
       "Designer, ceramics/pottery    8225\n",
       "Systems developer             7700\n",
       "IT trainer                    7679\n",
       "Financial adviser             7659\n",
       "Environmental consultant      7547\n",
       "Name: count, dtype: int64"
      ]
     },
     "execution_count": 23,
     "metadata": {},
     "output_type": "execute_result"
    }
   ],
   "source": [
    "x = train_df['job'].value_counts().nlargest(10)\n",
    "x"
   ]
  },
  {
   "cell_type": "code",
   "execution_count": 25,
   "id": "3785fcbc",
   "metadata": {
    "ExecuteTime": {
     "end_time": "2024-03-28T16:38:25.566685Z",
     "start_time": "2024-03-28T16:38:25.077679Z"
    }
   },
   "outputs": [
    {
     "data": {
      "image/png": "[encoded data removed]",
      "text/plain": [
       "<Figure size 640x480 with 1 Axes>"
      ]
     },
     "metadata": {},
     "output_type": "display_data"
    }
   ],
   "source": [
    "x.plot(kind='bar')\n",
    "plt.show()"
   ]
  },
  {
   "cell_type": "code",
   "execution_count": 52,
   "id": "48188bd2",
   "metadata": {},
   "outputs": [
    {
     "data": {
      "text/plain": [
       "category\n",
       "gas_transport     131659\n",
       "grocery_pos       123638\n",
       "home              123115\n",
       "shopping_pos      116672\n",
       "kids_pets         113035\n",
       "shopping_net       97543\n",
       "entertainment      94014\n",
       "food_dining        91461\n",
       "personal_care      90758\n",
       "health_fitness     85879\n",
       "misc_pos           79655\n",
       "misc_net           63287\n",
       "grocery_net        45452\n",
       "travel             40507\n",
       "Name: count, dtype: int64"
      ]
     },
     "execution_count": 52,
     "metadata": {},
     "output_type": "execute_result"
    }
   ],
   "source": [
    "y = train_df['category'].value_counts()\n",
    "y"
   ]
  },
  {
   "cell_type": "code",
   "execution_count": 53,
   "id": "1ba3628f",
   "metadata": {},
   "outputs": [
    {
     "data": {
      "text/plain": [
       "<Axes: xlabel='category'>"
      ]
     },
     "execution_count": 53,
     "metadata": {},
     "output_type": "execute_result"
    },
    {
     "data": {
      "image/png": "[encoded data removed]",
      "text/plain": [
       "<Figure size 640x480 with 1 Axes>"
      ]
     },
     "metadata": {},
     "output_type": "display_data"
    }
   ],
   "source": [
    "y.plot(kind='bar')"
   ]
  },
  {
   "cell_type": "code",
   "execution_count": 26,
   "id": "7095d812",
   "metadata": {
    "ExecuteTime": {
     "end_time": "2024-03-28T16:40:20.907078Z",
     "start_time": "2024-03-28T16:40:20.471126Z"
    }
   },
   "outputs": [
    {
     "data": {
      "text/html": [
       "<div>\n",
       "<style scoped>\n",
       "    .dataframe tbody tr th:only-of-type {\n",
       "        vertical-align: middle;\n",
       "    }\n",
       "\n",
       "    .dataframe tbody tr th {\n",
       "        vertical-align: top;\n",
       "    }\n",
       "\n",
       "    .dataframe thead th {\n",
       "        text-align: right;\n",
       "    }\n",
       "</style>\n",
       "<table border=\"1\" class=\"dataframe\">\n",
       "  <thead>\n",
       "    <tr style=\"text-align: right;\">\n",
       "      <th>hour_of_day</th>\n",
       "      <th>0</th>\n",
       "      <th>1</th>\n",
       "      <th>2</th>\n",
       "      <th>3</th>\n",
       "      <th>4</th>\n",
       "      <th>5</th>\n",
       "      <th>6</th>\n",
       "      <th>7</th>\n",
       "      <th>8</th>\n",
       "      <th>9</th>\n",
       "      <th>...</th>\n",
       "      <th>14</th>\n",
       "      <th>15</th>\n",
       "      <th>16</th>\n",
       "      <th>17</th>\n",
       "      <th>18</th>\n",
       "      <th>19</th>\n",
       "      <th>20</th>\n",
       "      <th>21</th>\n",
       "      <th>22</th>\n",
       "      <th>23</th>\n",
       "    </tr>\n",
       "    <tr>\n",
       "      <th>is_fraud</th>\n",
       "      <th></th>\n",
       "      <th></th>\n",
       "      <th></th>\n",
       "      <th></th>\n",
       "      <th></th>\n",
       "      <th></th>\n",
       "      <th></th>\n",
       "      <th></th>\n",
       "      <th></th>\n",
       "      <th></th>\n",
       "      <th></th>\n",
       "      <th></th>\n",
       "      <th></th>\n",
       "      <th></th>\n",
       "      <th></th>\n",
       "      <th></th>\n",
       "      <th></th>\n",
       "      <th></th>\n",
       "      <th></th>\n",
       "      <th></th>\n",
       "      <th></th>\n",
       "    </tr>\n",
       "  </thead>\n",
       "  <tbody>\n",
       "    <tr>\n",
       "      <th>0</th>\n",
       "      <td>98.505953</td>\n",
       "      <td>98.465091</td>\n",
       "      <td>98.53479</td>\n",
       "      <td>98.576071</td>\n",
       "      <td>99.890118</td>\n",
       "      <td>99.857722</td>\n",
       "      <td>99.905437</td>\n",
       "      <td>99.867308</td>\n",
       "      <td>99.884719</td>\n",
       "      <td>99.888586</td>\n",
       "      <td>...</td>\n",
       "      <td>99.867458</td>\n",
       "      <td>99.879188</td>\n",
       "      <td>99.884368</td>\n",
       "      <td>99.880825</td>\n",
       "      <td>99.877367</td>\n",
       "      <td>99.876351</td>\n",
       "      <td>99.904759</td>\n",
       "      <td>99.88708</td>\n",
       "      <td>97.117136</td>\n",
       "      <td>97.162613</td>\n",
       "    </tr>\n",
       "    <tr>\n",
       "      <th>1</th>\n",
       "      <td>1.494047</td>\n",
       "      <td>1.534909</td>\n",
       "      <td>1.46521</td>\n",
       "      <td>1.423929</td>\n",
       "      <td>0.109882</td>\n",
       "      <td>0.142278</td>\n",
       "      <td>0.094563</td>\n",
       "      <td>0.132692</td>\n",
       "      <td>0.115281</td>\n",
       "      <td>0.111414</td>\n",
       "      <td>...</td>\n",
       "      <td>0.132542</td>\n",
       "      <td>0.120812</td>\n",
       "      <td>0.115632</td>\n",
       "      <td>0.119175</td>\n",
       "      <td>0.122633</td>\n",
       "      <td>0.123649</td>\n",
       "      <td>0.095241</td>\n",
       "      <td>0.11292</td>\n",
       "      <td>2.882864</td>\n",
       "      <td>2.837387</td>\n",
       "    </tr>\n",
       "  </tbody>\n",
       "</table>\n",
       "<p>2 rows × 24 columns</p>\n",
       "</div>"
      ],
      "text/plain": [
       "hour_of_day          0          1         2          3          4          5  \\\n",
       "is_fraud                                                                       \n",
       "0            98.505953  98.465091  98.53479  98.576071  99.890118  99.857722   \n",
       "1             1.494047   1.534909   1.46521   1.423929   0.109882   0.142278   \n",
       "\n",
       "hour_of_day          6          7          8          9  ...         14  \\\n",
       "is_fraud                                                 ...              \n",
       "0            99.905437  99.867308  99.884719  99.888586  ...  99.867458   \n",
       "1             0.094563   0.132692   0.115281   0.111414  ...   0.132542   \n",
       "\n",
       "hour_of_day         15         16         17         18         19         20  \\\n",
       "is_fraud                                                                        \n",
       "0            99.879188  99.884368  99.880825  99.877367  99.876351  99.904759   \n",
       "1             0.120812   0.115632   0.119175   0.122633   0.123649   0.095241   \n",
       "\n",
       "hour_of_day        21         22         23  \n",
       "is_fraud                                     \n",
       "0            99.88708  97.117136  97.162613  \n",
       "1             0.11292   2.882864   2.837387  \n",
       "\n",
       "[2 rows x 24 columns]"
      ]
     },
     "execution_count": 26,
     "metadata": {},
     "output_type": "execute_result"
    }
   ],
   "source": [
    "pd.crosstab(train_df['is_fraud'],train_df['hour_of_day'],normalize='columns')*100"
   ]
  },
  {
   "cell_type": "code",
   "execution_count": 27,
   "id": "b34b137f",
   "metadata": {
    "ExecuteTime": {
     "end_time": "2024-03-28T16:40:35.661077Z",
     "start_time": "2024-03-28T16:40:34.547115Z"
    }
   },
   "outputs": [
    {
     "data": {
      "image/png": "[encoded data removed]",
      "text/plain": [
       "<Figure size 640x480 with 2 Axes>"
      ]
     },
     "metadata": {},
     "output_type": "display_data"
    }
   ],
   "source": [
    "sns.heatmap(pd.crosstab(train_df['is_fraud'],train_df['hour_of_day'],normalize='columns')*100)\n",
    "plt.show()"
   ]
  },
  {
   "cell_type": "code",
   "execution_count": 28,
   "id": "502c87ad",
   "metadata": {
    "ExecuteTime": {
     "end_time": "2024-03-28T16:41:10.078806Z",
     "start_time": "2024-03-28T16:41:08.877160Z"
    }
   },
   "outputs": [
    {
     "data": {
      "image/png": "[encoded data removed]",
      "text/plain": [
       "<Figure size 640x480 with 2 Axes>"
      ]
     },
     "metadata": {},
     "output_type": "display_data"
    }
   ],
   "source": [
    "sns.heatmap(pd.crosstab(train_df['is_fraud'],train_df['category'],normalize='columns')*100)\n",
    "plt.show()"
   ]
  },
  {
   "cell_type": "markdown",
   "id": "d4117ce8",
   "metadata": {},
   "source": [
    "## Smote algorithm "
   ]
  },
  {
   "cell_type": "code",
   "execution_count": 31,
   "id": "c1c48a99",
   "metadata": {
    "ExecuteTime": {
     "end_time": "2024-03-28T16:48:45.809907Z",
     "start_time": "2024-03-28T16:48:45.326059Z"
    }
   },
   "outputs": [
    {
     "name": "stdout",
     "output_type": "stream",
     "text": [
      "X shape:(1296675, 5)\n",
      "y shape:(1296675,)\n"
     ]
    }
   ],
   "source": [
    "features = ['transaction_id', 'hour_of_day', 'category', 'amount(usd)', 'merchant', 'job']\n",
    "\n",
    "X = train_df[features].set_index(\"transaction_id\")\n",
    "y = train_df['is_fraud']\n",
    "\n",
    "print('X shape:{}\\ny shape:{}'.format(X.shape,y.shape))"
   ]
  },
  {
   "cell_type": "code",
   "execution_count": 34,
   "id": "f324c63a",
   "metadata": {
    "ExecuteTime": {
     "end_time": "2024-03-28T17:13:54.699813Z",
     "start_time": "2024-03-28T16:55:14.622886Z"
    }
   },
   "outputs": [],
   "source": [
    "from imblearn.over_sampling import SMOTEN\n",
    "smote = SMOTEN(random_state=42)\n",
    "X_resampled, y_resampled = smote.fit_resample(X,y)"
   ]
  },
  {
   "cell_type": "code",
   "execution_count": 35,
   "id": "a17e78b4",
   "metadata": {
    "ExecuteTime": {
     "end_time": "2024-03-28T17:14:53.352815Z",
     "start_time": "2024-03-28T17:14:53.263950Z"
    }
   },
   "outputs": [
    {
     "data": {
      "text/plain": [
       "is_fraud\n",
       "0    1289169\n",
       "1    1289169\n",
       "Name: count, dtype: int64"
      ]
     },
     "execution_count": 35,
     "metadata": {},
     "output_type": "execute_result"
    }
   ],
   "source": [
    "y_resampled.value_counts()"
   ]
  },
  {
   "cell_type": "code",
   "execution_count": 37,
   "id": "63ee7c3e",
   "metadata": {
    "ExecuteTime": {
     "end_time": "2024-03-28T17:16:13.979435Z",
     "start_time": "2024-03-28T17:16:07.935658Z"
    }
   },
   "outputs": [],
   "source": [
    "from sklearn.preprocessing import OrdinalEncoder\n",
    "\n",
    "enc = OrdinalEncoder(dtype=np.int64)\n",
    "enc.fit(X_resampled.loc[:,['category','merchant','job']])\n",
    "\n",
    "X_resampled.loc[:, ['category','merchant','job']] = enc.transform(X_resampled[['category','merchant','job']])"
   ]
  },
  {
   "cell_type": "code",
   "execution_count": 38,
   "id": "a6603ffb",
   "metadata": {
    "ExecuteTime": {
     "end_time": "2024-03-28T17:18:37.113256Z",
     "start_time": "2024-03-28T17:18:35.928538Z"
    }
   },
   "outputs": [],
   "source": [
    "from sklearn.model_selection import train_test_split\n",
    "X_train, X_test, y_train, y_test = train_test_split(X_resampled, y_resampled, test_size=0.2, random_state=42)"
   ]
  },
  {
   "cell_type": "code",
   "execution_count": 39,
   "id": "060a5cf4",
   "metadata": {
    "ExecuteTime": {
     "end_time": "2024-03-28T17:18:44.593185Z",
     "start_time": "2024-03-28T17:18:44.534839Z"
    }
   },
   "outputs": [],
   "source": [
    "from sklearn.feature_selection import SelectKBest\n",
    "from sklearn.feature_selection import chi2\n",
    "\n",
    "def select_features(X_train, y_train, X_test):\n",
    "    fs = SelectKBest(score_func=chi2, k='all')\n",
    "    fs.fit(X_train, y_train)\n",
    "    X_train_fs = fs.transform(X_train)\n",
    "    X_test_fs = fs.transform(X_test)\n",
    "    return X_train_fs, X_test_fs, fs"
   ]
  },
  {
   "cell_type": "code",
   "execution_count": 40,
   "id": "79c06488",
   "metadata": {
    "ExecuteTime": {
     "end_time": "2024-03-28T17:19:07.703792Z",
     "start_time": "2024-03-28T17:19:07.692743Z"
    }
   },
   "outputs": [
    {
     "name": "stdout",
     "output_type": "stream",
     "text": [
      "X_train shape:(2062670, 5)\n",
      "y_train shape:(2062670,)\n",
      "X_test shape:(515668, 5)\n",
      "y_test shape:(515668,)\n"
     ]
    }
   ],
   "source": [
    "print('X_train shape:{}\\ny_train shape:{}'.format(X_train.shape,y_train.shape))\n",
    "print('X_test shape:{}\\ny_test shape:{}'.format(X_test.shape,y_test.shape))"
   ]
  },
  {
   "cell_type": "markdown",
   "id": "d528b91a",
   "metadata": {},
   "source": [
    "## Training, prediction and accuracy"
   ]
  },
  {
   "cell_type": "code",
   "execution_count": 41,
   "id": "7053baa8",
   "metadata": {
    "ExecuteTime": {
     "end_time": "2024-03-28T17:40:04.731231Z",
     "start_time": "2024-03-28T17:25:59.704946Z"
    }
   },
   "outputs": [
    {
     "name": "stdout",
     "output_type": "stream",
     "text": [
      "Accuracy: 0.998791858327451\n",
      "F1 score: 0.9987944089991659\n",
      "AUC: 0.998792849824554\n"
     ]
    }
   ],
   "source": [
    "from sklearn.metrics import accuracy_score, classification_report, f1_score, confusion_matrix, roc_auc_score, roc_curve\n",
    "from sklearn.ensemble import RandomForestClassifier\n",
    "\n",
    "# Create a Random Forest classifier\n",
    "rf_classifier = RandomForestClassifier(random_state=42)\n",
    "\n",
    "# Train the classifier\n",
    "rf_classifier.fit(X_train, y_train)\n",
    "\n",
    "# Make predictions on the testing set\n",
    "y_pred = rf_classifier.predict(X_test)\n",
    "\n",
    "# Evaluate the classifier\n",
    "accuracy = accuracy_score(y_test, y_pred)\n",
    "f1_score = f1_score(y_test, y_pred)\n",
    "auc = roc_auc_score(y_test, y_pred)\n",
    "print(\"Accuracy:\", accuracy)\n",
    "print(\"F1 score:\", f1_score)\n",
    "print(\"AUC:\", auc)"
   ]
  },
  {
   "cell_type": "code",
   "execution_count": 44,
   "id": "27d6a949",
   "metadata": {
    "ExecuteTime": {
     "end_time": "2024-03-28T17:44:38.243688Z",
     "start_time": "2024-03-28T17:44:37.464479Z"
    }
   },
   "outputs": [
    {
     "data": {
      "image/png": "[encoded data removed]",
      "text/plain": [
       "<Figure size 800x600 with 1 Axes>"
      ]
     },
     "metadata": {},
     "output_type": "display_data"
    }
   ],
   "source": [
    "from sklearn.metrics import auc\n",
    "fpr, tpr, thresholds = roc_curve(y_test, y_pred)\n",
    "roc_auc = auc(fpr, tpr)\n",
    "\n",
    "# Plot ROC curve\n",
    "plt.figure(figsize=(8, 6))\n",
    "plt.plot(fpr, tpr, color='blue', lw=2, label='ROC curve (area = %0.2f)' % roc_auc)\n",
    "plt.plot([0, 1], [0, 1], color='red', lw=2, linestyle='--', label='Random guess')\n",
    "plt.xlabel('False Positive Rate')\n",
    "plt.ylabel('True Positive Rate')\n",
    "plt.title('Receiver Operating Characteristic (ROC) Curve')\n",
    "plt.legend(loc='lower right')\n",
    "plt.show()"
   ]
  },
  {
   "cell_type": "code",
   "execution_count": 45,
   "id": "ae5c0fdb",
   "metadata": {
    "ExecuteTime": {
     "end_time": "2024-03-28T17:46:29.532458Z",
     "start_time": "2024-03-28T17:46:26.915149Z"
    }
   },
   "outputs": [
    {
     "name": "stdout",
     "output_type": "stream",
     "text": [
      "              precision    recall  f1-score   support\n",
      "\n",
      "           0       1.00      1.00      1.00    257186\n",
      "           1       1.00      1.00      1.00    258482\n",
      "\n",
      "    accuracy                           1.00    515668\n",
      "   macro avg       1.00      1.00      1.00    515668\n",
      "weighted avg       1.00      1.00      1.00    515668\n",
      "\n"
     ]
    }
   ],
   "source": [
    "print(classification_report(y_test,y_pred))"
   ]
  },
  {
   "cell_type": "code",
   "execution_count": 46,
   "id": "96d28897",
   "metadata": {
    "ExecuteTime": {
     "end_time": "2024-03-28T17:46:40.383398Z",
     "start_time": "2024-03-28T17:46:39.568531Z"
    }
   },
   "outputs": [
    {
     "data": {
      "image/png": "[encoded data removed]",
      "text/plain": [
       "<Figure size 800x600 with 2 Axes>"
      ]
     },
     "metadata": {},
     "output_type": "display_data"
    }
   ],
   "source": [
    "from sklearn.metrics import confusion_matrix\n",
    "plt.figure(figsize=(8, 6))\n",
    "cfs_matrix = confusion_matrix(y_test, y_pred)\n",
    "sns.heatmap(cfs_matrix, annot=True, fmt=\"d\", cmap=\"Blues\")\n",
    "plt.xlabel('Predicted')\n",
    "plt.ylabel('True')\n",
    "plt.title('Confusion Matrix')\n",
    "plt.show()"
   ]
  }
 ],
 "metadata": {
  "kernelspec": {
   "display_name": "Python 3 (ipykernel)",
   "language": "python",
   "name": "python3"
  },
  "language_info": {
   "codemirror_mode": {
    "name": "ipython",
    "version": 3
   },
   "file_extension": ".py",
   "mimetype": "text/x-python",
   "name": "python",
   "nbconvert_exporter": "python",
   "pygments_lexer": "ipython3",
   "version": "3.11.5"
  },
  "toc": {
   "base_numbering": 1,
   "nav_menu": {},
   "number_sections": true,
   "sideBar": true,
   "skip_h1_title": false,
   "title_cell": "Table of Contents",
   "title_sidebar": "Contents",
   "toc_cell": false,
   "toc_position": {},
   "toc_section_display": true,
   "toc_window_display": false
  }
 },
 "nbformat": 4,
 "nbformat_minor": 5
}
